{
 "cells": [
  {
   "cell_type": "code",
   "execution_count": 1,
   "metadata": {},
   "outputs": [
    {
     "name": "stderr",
     "output_type": "stream",
     "text": [
      "Using TensorFlow backend.\n"
     ]
    }
   ],
   "source": [
    "# Load the library\n",
    "import pandas as pd\n",
    "import numpy as np\n",
    "import os, shutil\n",
    "from keras.models import Sequential\n",
    "from keras.layers import Conv2D, MaxPooling2D, Dense, Activation, Flatten, Dropout, GlobalAveragePooling2D\n",
    "from keras.preprocessing.image import ImageDataGenerator\n",
    "from keras import optimizers\n",
    "import sklearn\n",
    "from sklearn.model_selection import train_test_split, GridSearchCV\n",
    "from sklearn.svm import LinearSVC\n",
    "from keras.applications import VGG16\n",
    "from sklearn.metrics import accuracy_score"
   ]
  },
  {
   "cell_type": "code",
   "execution_count": 8,
   "metadata": {},
   "outputs": [],
   "source": [
    "# # The path to the directory where the original\n",
    "# # dataset was uncompressed\n",
    "original_dataset_dir = 'C:/Users/liulu/Downloads/image_2'"
   ]
  },
  {
   "cell_type": "code",
   "execution_count": 6,
   "metadata": {},
   "outputs": [],
   "source": [
    "# # The directory where we will\n",
    "# # store our smaller dataset\n",
    "base_dir = 'C:/Users/liulu/Downloads/Test'\n",
    "os.mkdir(base_dir)"
   ]
  },
  {
   "cell_type": "code",
   "execution_count": 7,
   "metadata": {},
   "outputs": [],
   "source": [
    "# # Directories for our training,\n",
    "# # validation and test splits\n",
    "train_dir = os.path.join(base_dir, 'train')\n",
    "os.mkdir(train_dir)\n",
    "validation_dir = os.path.join(base_dir, 'validation')\n",
    "os.mkdir(validation_dir)\n",
    "test_dir = os.path.join(base_dir, 'test')\n",
    "os.mkdir(test_dir)"
   ]
  },
  {
   "cell_type": "code",
   "execution_count": 11,
   "metadata": {},
   "outputs": [],
   "source": [
    "# # Directory with our training pub pictures\n",
    "train_pub_dir = os.path.join(train_dir, 'pub')\n",
    "os.mkdir(train_pub_dir)\n",
    "\n",
    "# # Directory with our training priv pictures\n",
    "train_priv_dir = os.path.join(train_dir, 'priv')\n",
    "os.mkdir(train_priv_dir)\n",
    "\n",
    "# # Directory with our validation pub pictures\n",
    "validation_pub_dir = os.path.join(validation_dir, 'pub')\n",
    "os.mkdir(validation_pub_dir)\n",
    "\n",
    "# # Directory with our validation priv pictures\n",
    "validation_priv_dir = os.path.join(validation_dir, 'priv')\n",
    "os.mkdir(validation_priv_dir)\n",
    "\n",
    "# # Directory with our test bar pictures\n",
    "test_pub_dir = os.path.join(test_dir, 'pub')\n",
    "os.mkdir(test_pub_dir)\n",
    "\n",
    "# # Directory with our test bedroom pictures\n",
    "test_priv_dir = os.path.join(test_dir, 'priv')\n",
    "os.mkdir(test_priv_dir)"
   ]
  },
  {
   "cell_type": "code",
   "execution_count": 13,
   "metadata": {},
   "outputs": [],
   "source": [
    "# Copy first 4000 public images to train_bar_dir\n",
    "fnames = ['pub{}.jpg'.format(i) for i in range(1,4001)]\n",
    "for fname in fnames:\n",
    "    src = os.path.join(original_dataset_dir, fname)\n",
    "    dst = os.path.join(train_pub_dir, fname)\n",
    "    shutil.copyfile(src, dst)\n",
    "\n",
    "# Copy next 1000 public images to validation_bar_dir\n",
    "fnames = ['pub{}.jpg'.format(i) for i in range(4001, 5001)]\n",
    "for fname in fnames:\n",
    "    src = os.path.join(original_dataset_dir, fname)\n",
    "    dst = os.path.join(validation_pub_dir, fname)\n",
    "    shutil.copyfile(src, dst)\n",
    "    \n",
    "# Copy next 1000 public images to test_bar_dir\n",
    "fnames = ['pub{}.jpg'.format(i) for i in range(5001, 6001)]\n",
    "for fname in fnames:\n",
    "    src = os.path.join(original_dataset_dir, fname)\n",
    "    dst = os.path.join(test_pub_dir, fname)\n",
    "    shutil.copyfile(src, dst)"
   ]
  },
  {
   "cell_type": "code",
   "execution_count": 14,
   "metadata": {},
   "outputs": [],
   "source": [
    "# Copy first 2000 private images to train_bedroom_dir\n",
    "fnames = ['priv{}.jpg'.format(i) for i in range(1,2001)]\n",
    "for fname in fnames:\n",
    "    src = os.path.join(original_dataset_dir, fname)\n",
    "    dst = os.path.join(train_priv_dir, fname)\n",
    "    shutil.copyfile(src, dst)\n",
    "    \n",
    "# Copy next 1000 private images to validation_bedroom_dir\n",
    "fnames = ['priv{}.jpg'.format(i) for i in range(2001, 3001)]\n",
    "for fname in fnames:\n",
    "    src = os.path.join(original_dataset_dir, fname)\n",
    "    dst = os.path.join(validation_priv_dir, fname)\n",
    "    shutil.copyfile(src, dst)\n",
    "    \n",
    "# Copy next 1000 private images to test_bedroom_dir\n",
    "fnames = ['priv{}.jpg'.format(i) for i in range(3001, 4001)]\n",
    "for fname in fnames:\n",
    "    src = os.path.join(original_dataset_dir, fname)\n",
    "    dst = os.path.join(test_priv_dir, fname)\n",
    "    shutil.copyfile(src, dst)"
   ]
  },
  {
   "cell_type": "code",
   "execution_count": 16,
   "metadata": {},
   "outputs": [
    {
     "name": "stdout",
     "output_type": "stream",
     "text": [
      "total training public images: 4000\n",
      "total training private images: 2000\n",
      "total validation public images: 1000\n",
      "total validation private images: 1000\n",
      "total test public images: 1000\n",
      "total test private images: 1000\n"
     ]
    }
   ],
   "source": [
    "# Sanity checks\n",
    "print('total training public images:',len(os.listdir(train_pub_dir)))\n",
    "print('total training private images:',len(os.listdir(train_priv_dir)))\n",
    "print('total validation public images:',len(os.listdir(validation_pub_dir)))\n",
    "print('total validation private images:',len(os.listdir(validation_priv_dir)))\n",
    "print('total test public images:', len(os.listdir(test_pub_dir)))\n",
    "print('total test private images:', len(os.listdir(test_priv_dir)))"
   ]
  },
  {
   "cell_type": "code",
   "execution_count": 18,
   "metadata": {},
   "outputs": [
    {
     "name": "stdout",
     "output_type": "stream",
     "text": [
      "Model: \"vgg16\"\n",
      "_________________________________________________________________\n",
      "Layer (type)                 Output Shape              Param #   \n",
      "=================================================================\n",
      "input_1 (InputLayer)         (None, 150, 150, 3)       0         \n",
      "_________________________________________________________________\n",
      "block1_conv1 (Conv2D)        (None, 150, 150, 64)      1792      \n",
      "_________________________________________________________________\n",
      "block1_conv2 (Conv2D)        (None, 150, 150, 64)      36928     \n",
      "_________________________________________________________________\n",
      "block1_pool (MaxPooling2D)   (None, 75, 75, 64)        0         \n",
      "_________________________________________________________________\n",
      "block2_conv1 (Conv2D)        (None, 75, 75, 128)       73856     \n",
      "_________________________________________________________________\n",
      "block2_conv2 (Conv2D)        (None, 75, 75, 128)       147584    \n",
      "_________________________________________________________________\n",
      "block2_pool (MaxPooling2D)   (None, 37, 37, 128)       0         \n",
      "_________________________________________________________________\n",
      "block3_conv1 (Conv2D)        (None, 37, 37, 256)       295168    \n",
      "_________________________________________________________________\n",
      "block3_conv2 (Conv2D)        (None, 37, 37, 256)       590080    \n",
      "_________________________________________________________________\n",
      "block3_conv3 (Conv2D)        (None, 37, 37, 256)       590080    \n",
      "_________________________________________________________________\n",
      "block3_pool (MaxPooling2D)   (None, 18, 18, 256)       0         \n",
      "_________________________________________________________________\n",
      "block4_conv1 (Conv2D)        (None, 18, 18, 512)       1180160   \n",
      "_________________________________________________________________\n",
      "block4_conv2 (Conv2D)        (None, 18, 18, 512)       2359808   \n",
      "_________________________________________________________________\n",
      "block4_conv3 (Conv2D)        (None, 18, 18, 512)       2359808   \n",
      "_________________________________________________________________\n",
      "block4_pool (MaxPooling2D)   (None, 9, 9, 512)         0         \n",
      "_________________________________________________________________\n",
      "block5_conv1 (Conv2D)        (None, 9, 9, 512)         2359808   \n",
      "_________________________________________________________________\n",
      "block5_conv2 (Conv2D)        (None, 9, 9, 512)         2359808   \n",
      "_________________________________________________________________\n",
      "block5_conv3 (Conv2D)        (None, 9, 9, 512)         2359808   \n",
      "_________________________________________________________________\n",
      "block5_pool (MaxPooling2D)   (None, 4, 4, 512)         0         \n",
      "=================================================================\n",
      "Total params: 14,714,688\n",
      "Trainable params: 14,714,688\n",
      "Non-trainable params: 0\n",
      "_________________________________________________________________\n"
     ]
    }
   ],
   "source": [
    "# use pre-trained model as feature extractor\n",
    "\n",
    "conv_base = VGG16(weights = 'imagenet',\n",
    "                  include_top = False,\n",
    "                  input_shape = (150,150,3))\n",
    "conv_base.summary()"
   ]
  },
  {
   "cell_type": "code",
   "execution_count": 19,
   "metadata": {},
   "outputs": [],
   "source": [
    "# Extract features\n",
    "datagen = ImageDataGenerator(rescale=1./255)\n",
    "batch_size = 32\n",
    "\n",
    "def extract_features(directory, sample_count):\n",
    "\n",
    "    features = np.zeros(shape=(sample_count, 4, 4, 512)) # Must be equal to the output of the convolutional base\n",
    "    labels = np.zeros(shape=(sample_count))\n",
    "\n",
    "    # Preprocess data\n",
    "    generator = datagen.flow_from_directory(directory,\n",
    "                                            target_size=(150,150),\n",
    "                                            batch_size = batch_size,class_mode='binary')\n",
    "\n",
    "    # Pass data through convolutional base\n",
    "    i = 0\n",
    "    for inputs_batch, labels_batch in generator:\n",
    "        features_batch = conv_base.predict(inputs_batch)\n",
    "        features[i * batch_size: (i + 1) * batch_size] = features_batch\n",
    "        labels[i * batch_size: (i + 1) * batch_size] = labels_batch\n",
    "        i += 1\n",
    "        if i * batch_size >= sample_count:\n",
    "            break\n",
    "    return features, labels"
   ]
  },
  {
   "cell_type": "code",
   "execution_count": 20,
   "metadata": {},
   "outputs": [
    {
     "name": "stdout",
     "output_type": "stream",
     "text": [
      "Found 6000 images belonging to 2 classes.\n",
      "Found 2000 images belonging to 2 classes.\n",
      "Found 2000 images belonging to 2 classes.\n"
     ]
    }
   ],
   "source": [
    "# get features\n",
    "train_features, train_labels = extract_features(train_dir, 6000)\n",
    "validation_features, validation_labels = extract_features(validation_dir, 2000)\n",
    "test_features, test_labels = extract_features(test_dir, 2000)"
   ]
  },
  {
   "cell_type": "code",
   "execution_count": 21,
   "metadata": {},
   "outputs": [
    {
     "name": "stdout",
     "output_type": "stream",
     "text": [
      "Model: \"sequential_1\"\n",
      "_________________________________________________________________\n",
      "Layer (type)                 Output Shape              Param #   \n",
      "=================================================================\n",
      "flatten_1 (Flatten)          (None, 8192)              0         \n",
      "_________________________________________________________________\n",
      "dense_1 (Dense)              (None, 256)               2097408   \n",
      "_________________________________________________________________\n",
      "dropout_1 (Dropout)          (None, 256)               0         \n",
      "_________________________________________________________________\n",
      "dense_2 (Dense)              (None, 1)                 257       \n",
      "=================================================================\n",
      "Total params: 2,097,665\n",
      "Trainable params: 2,097,665\n",
      "Non-trainable params: 0\n",
      "_________________________________________________________________\n"
     ]
    }
   ],
   "source": [
    "# Define model\n",
    "epochs = 100\n",
    "model = Sequential()\n",
    "model.add(Flatten(input_shape=(4,4,512)))\n",
    "model.add(Dense(256, activation='relu', input_dim=(4*4*512)))\n",
    "model.add(Dropout(0.5))\n",
    "model.add(Dense(1, activation='sigmoid'))\n",
    "model.summary()"
   ]
  },
  {
   "cell_type": "code",
   "execution_count": 22,
   "metadata": {},
   "outputs": [
    {
     "name": "stdout",
     "output_type": "stream",
     "text": [
      "Train on 6000 samples, validate on 2000 samples\n",
      "Epoch 1/100\n",
      "6000/6000 [==============================] - 7s 1ms/step - loss: 0.4131 - acc: 0.8147 - val_loss: 0.6597 - val_acc: 0.6810\n",
      "Epoch 2/100\n",
      "6000/6000 [==============================] - 7s 1ms/step - loss: 0.3020 - acc: 0.8693 - val_loss: 0.7660 - val_acc: 0.6645\n",
      "Epoch 3/100\n",
      "6000/6000 [==============================] - 7s 1ms/step - loss: 0.2575 - acc: 0.8913 - val_loss: 0.6572 - val_acc: 0.7015\n",
      "Epoch 4/100\n",
      "6000/6000 [==============================] - 7s 1ms/step - loss: 0.2221 - acc: 0.9055 - val_loss: 0.7649 - val_acc: 0.6975\n",
      "Epoch 5/100\n",
      "6000/6000 [==============================] - 7s 1ms/step - loss: 0.1997 - acc: 0.9147 - val_loss: 0.8485 - val_acc: 0.6970\n",
      "Epoch 6/100\n",
      "6000/6000 [==============================] - 7s 1ms/step - loss: 0.1653 - acc: 0.9327 - val_loss: 0.7422 - val_acc: 0.7125\n",
      "Epoch 7/100\n",
      "6000/6000 [==============================] - 7s 1ms/step - loss: 0.1507 - acc: 0.9413 - val_loss: 0.8722 - val_acc: 0.6800\n",
      "Epoch 8/100\n",
      "6000/6000 [==============================] - 7s 1ms/step - loss: 0.1367 - acc: 0.9457 - val_loss: 0.9977 - val_acc: 0.6900\n",
      "Epoch 9/100\n",
      "6000/6000 [==============================] - 7s 1ms/step - loss: 0.1135 - acc: 0.9535 - val_loss: 1.0809 - val_acc: 0.6860\n",
      "Epoch 10/100\n",
      "6000/6000 [==============================] - 7s 1ms/step - loss: 0.1063 - acc: 0.9575 - val_loss: 0.9442 - val_acc: 0.7185\n",
      "Epoch 11/100\n",
      "6000/6000 [==============================] - 7s 1ms/step - loss: 0.1099 - acc: 0.9538 - val_loss: 1.0500 - val_acc: 0.7010\n",
      "Epoch 12/100\n",
      "6000/6000 [==============================] - 7s 1ms/step - loss: 0.0866 - acc: 0.9668 - val_loss: 1.1241 - val_acc: 0.7015\n",
      "Epoch 13/100\n",
      "6000/6000 [==============================] - 7s 1ms/step - loss: 0.0795 - acc: 0.9687 - val_loss: 1.3955 - val_acc: 0.6910\n",
      "Epoch 14/100\n",
      "6000/6000 [==============================] - 7s 1ms/step - loss: 0.0714 - acc: 0.9718 - val_loss: 1.4645 - val_acc: 0.6790\n",
      "Epoch 15/100\n",
      "6000/6000 [==============================] - 7s 1ms/step - loss: 0.0583 - acc: 0.9792 - val_loss: 1.3844 - val_acc: 0.6955\n",
      "Epoch 16/100\n",
      "6000/6000 [==============================] - 7s 1ms/step - loss: 0.0548 - acc: 0.9785 - val_loss: 1.2390 - val_acc: 0.6990\n",
      "Epoch 17/100\n",
      "6000/6000 [==============================] - 7s 1ms/step - loss: 0.0565 - acc: 0.9768 - val_loss: 1.2433 - val_acc: 0.7085\n",
      "Epoch 18/100\n",
      "6000/6000 [==============================] - 7s 1ms/step - loss: 0.0530 - acc: 0.9813 - val_loss: 1.6368 - val_acc: 0.6965\n",
      "Epoch 19/100\n",
      "6000/6000 [==============================] - 7s 1ms/step - loss: 0.0482 - acc: 0.9817 - val_loss: 1.5556 - val_acc: 0.6895\n",
      "Epoch 20/100\n",
      "6000/6000 [==============================] - 7s 1ms/step - loss: 0.0433 - acc: 0.9825 - val_loss: 1.5241 - val_acc: 0.6935\n",
      "Epoch 21/100\n",
      "6000/6000 [==============================] - 7s 1ms/step - loss: 0.0417 - acc: 0.9847 - val_loss: 1.3729 - val_acc: 0.6980\n",
      "Epoch 22/100\n",
      "6000/6000 [==============================] - 7s 1ms/step - loss: 0.0477 - acc: 0.9820 - val_loss: 1.3503 - val_acc: 0.7000\n",
      "Epoch 23/100\n",
      "6000/6000 [==============================] - 7s 1ms/step - loss: 0.0318 - acc: 0.9892 - val_loss: 1.7451 - val_acc: 0.7015\n",
      "Epoch 24/100\n",
      "6000/6000 [==============================] - 7s 1ms/step - loss: 0.0396 - acc: 0.9845 - val_loss: 1.6709 - val_acc: 0.7010\n",
      "Epoch 25/100\n",
      "6000/6000 [==============================] - 7s 1ms/step - loss: 0.0373 - acc: 0.9862 - val_loss: 1.6809 - val_acc: 0.6935\n",
      "Epoch 26/100\n",
      "6000/6000 [==============================] - 7s 1ms/step - loss: 0.0399 - acc: 0.9862 - val_loss: 1.4525 - val_acc: 0.7005\n",
      "Epoch 27/100\n",
      "6000/6000 [==============================] - 7s 1ms/step - loss: 0.0617 - acc: 0.9748 - val_loss: 1.8567 - val_acc: 0.6915\n",
      "Epoch 28/100\n",
      "6000/6000 [==============================] - 7s 1ms/step - loss: 0.0425 - acc: 0.9847 - val_loss: 1.6714 - val_acc: 0.7020\n",
      "Epoch 29/100\n",
      "6000/6000 [==============================] - 7s 1ms/step - loss: 0.0404 - acc: 0.9823 - val_loss: 1.6778 - val_acc: 0.6975\n",
      "Epoch 30/100\n",
      "6000/6000 [==============================] - 7s 1ms/step - loss: 0.0295 - acc: 0.9897 - val_loss: 1.6477 - val_acc: 0.7050\n",
      "Epoch 31/100\n",
      "6000/6000 [==============================] - 7s 1ms/step - loss: 0.0312 - acc: 0.9882 - val_loss: 2.1806 - val_acc: 0.6850\n",
      "Epoch 32/100\n",
      "6000/6000 [==============================] - 7s 1ms/step - loss: 0.0317 - acc: 0.9883 - val_loss: 1.8219 - val_acc: 0.7105\n",
      "Epoch 33/100\n",
      "6000/6000 [==============================] - 7s 1ms/step - loss: 0.0292 - acc: 0.9888 - val_loss: 2.0472 - val_acc: 0.6975\n",
      "Epoch 34/100\n",
      "6000/6000 [==============================] - 7s 1ms/step - loss: 0.0323 - acc: 0.9877 - val_loss: 2.0898 - val_acc: 0.7015\n",
      "Epoch 35/100\n",
      "6000/6000 [==============================] - 7s 1ms/step - loss: 0.0235 - acc: 0.9913 - val_loss: 1.6966 - val_acc: 0.7045\n",
      "Epoch 36/100\n",
      "6000/6000 [==============================] - 7s 1ms/step - loss: 0.0474 - acc: 0.9832 - val_loss: 2.3353 - val_acc: 0.6795\n",
      "Epoch 37/100\n",
      "6000/6000 [==============================] - 7s 1ms/step - loss: 0.0363 - acc: 0.9858 - val_loss: 1.9508 - val_acc: 0.6910\n",
      "Epoch 38/100\n",
      "6000/6000 [==============================] - 7s 1ms/step - loss: 0.0325 - acc: 0.9877 - val_loss: 2.8911 - val_acc: 0.6740\n",
      "Epoch 39/100\n",
      "6000/6000 [==============================] - 7s 1ms/step - loss: 0.0290 - acc: 0.9890 - val_loss: 2.2766 - val_acc: 0.6925\n",
      "Epoch 40/100\n",
      "6000/6000 [==============================] - 7s 1ms/step - loss: 0.0250 - acc: 0.9913 - val_loss: 2.1412 - val_acc: 0.6975\n",
      "Epoch 41/100\n",
      "6000/6000 [==============================] - 7s 1ms/step - loss: 0.0238 - acc: 0.9908 - val_loss: 2.2749 - val_acc: 0.7015\n",
      "Epoch 42/100\n",
      "6000/6000 [==============================] - 7s 1ms/step - loss: 0.0326 - acc: 0.9873 - val_loss: 1.9343 - val_acc: 0.6935\n",
      "Epoch 43/100\n",
      "6000/6000 [==============================] - 7s 1ms/step - loss: 0.0267 - acc: 0.9895 - val_loss: 1.9353 - val_acc: 0.6945\n",
      "Epoch 44/100\n",
      "6000/6000 [==============================] - 7s 1ms/step - loss: 0.0335 - acc: 0.9875 - val_loss: 1.5630 - val_acc: 0.7005\n",
      "Epoch 45/100\n",
      "6000/6000 [==============================] - 7s 1ms/step - loss: 0.0431 - acc: 0.9830 - val_loss: 1.8248 - val_acc: 0.7000\n",
      "Epoch 46/100\n",
      "6000/6000 [==============================] - 8s 1ms/step - loss: 0.0301 - acc: 0.9902 - val_loss: 2.0426 - val_acc: 0.7065\n",
      "Epoch 47/100\n",
      "6000/6000 [==============================] - 7s 1ms/step - loss: 0.0338 - acc: 0.9862 - val_loss: 2.4191 - val_acc: 0.6910\n",
      "Epoch 48/100\n",
      "6000/6000 [==============================] - 7s 1ms/step - loss: 0.0272 - acc: 0.9895 - val_loss: 2.2980 - val_acc: 0.7020\n",
      "Epoch 49/100\n",
      "6000/6000 [==============================] - 7s 1ms/step - loss: 0.0225 - acc: 0.9918 - val_loss: 2.2772 - val_acc: 0.6880\n",
      "Epoch 50/100\n",
      "6000/6000 [==============================] - 7s 1ms/step - loss: 0.0213 - acc: 0.9920 - val_loss: 2.3214 - val_acc: 0.7185\n",
      "Epoch 51/100\n",
      "6000/6000 [==============================] - 7s 1ms/step - loss: 0.0254 - acc: 0.9903 - val_loss: 2.4283 - val_acc: 0.7040\n",
      "Epoch 52/100\n",
      "6000/6000 [==============================] - 7s 1ms/step - loss: 0.0152 - acc: 0.9945 - val_loss: 2.8349 - val_acc: 0.6955\n",
      "Epoch 53/100\n",
      "6000/6000 [==============================] - 7s 1ms/step - loss: 0.0193 - acc: 0.9938 - val_loss: 2.4604 - val_acc: 0.6990\n",
      "Epoch 54/100\n",
      "6000/6000 [==============================] - 7s 1ms/step - loss: 0.0270 - acc: 0.9915 - val_loss: 2.4427 - val_acc: 0.6985\n",
      "Epoch 55/100\n",
      "6000/6000 [==============================] - 7s 1ms/step - loss: 0.0272 - acc: 0.9890 - val_loss: 2.3764 - val_acc: 0.6955\n",
      "Epoch 56/100\n",
      "6000/6000 [==============================] - 7s 1ms/step - loss: 0.0191 - acc: 0.9933 - val_loss: 2.2383 - val_acc: 0.7155\n",
      "Epoch 57/100\n",
      "6000/6000 [==============================] - 7s 1ms/step - loss: 0.0266 - acc: 0.9902 - val_loss: 2.5177 - val_acc: 0.7020\n",
      "Epoch 58/100\n",
      "6000/6000 [==============================] - 7s 1ms/step - loss: 0.0248 - acc: 0.9890 - val_loss: 2.6120 - val_acc: 0.6895\n",
      "Epoch 59/100\n",
      "6000/6000 [==============================] - 7s 1ms/step - loss: 0.0371 - acc: 0.9875 - val_loss: 2.4594 - val_acc: 0.6895\n",
      "Epoch 60/100\n",
      "6000/6000 [==============================] - 8s 1ms/step - loss: 0.0241 - acc: 0.9905 - val_loss: 2.5893 - val_acc: 0.7055\n"
     ]
    },
    {
     "name": "stdout",
     "output_type": "stream",
     "text": [
      "Epoch 61/100\n",
      "6000/6000 [==============================] - 7s 1ms/step - loss: 0.0243 - acc: 0.9925 - val_loss: 2.4215 - val_acc: 0.7070\n",
      "Epoch 62/100\n",
      "6000/6000 [==============================] - 7s 1ms/step - loss: 0.0219 - acc: 0.9917 - val_loss: 2.2456 - val_acc: 0.7020\n",
      "Epoch 63/100\n",
      "6000/6000 [==============================] - 7s 1ms/step - loss: 0.0246 - acc: 0.9910 - val_loss: 1.8374 - val_acc: 0.7095\n",
      "Epoch 64/100\n",
      "6000/6000 [==============================] - 7s 1ms/step - loss: 0.0287 - acc: 0.9882 - val_loss: 2.1307 - val_acc: 0.7045\n",
      "Epoch 65/100\n",
      "6000/6000 [==============================] - 7s 1ms/step - loss: 0.0194 - acc: 0.9927 - val_loss: 2.6836 - val_acc: 0.6920\n",
      "Epoch 66/100\n",
      "6000/6000 [==============================] - 7s 1ms/step - loss: 0.0258 - acc: 0.9900 - val_loss: 2.5554 - val_acc: 0.6890\n",
      "Epoch 67/100\n",
      "6000/6000 [==============================] - 7s 1ms/step - loss: 0.0153 - acc: 0.9937 - val_loss: 2.5692 - val_acc: 0.7045\n",
      "Epoch 68/100\n",
      "6000/6000 [==============================] - 7s 1ms/step - loss: 0.0106 - acc: 0.9962 - val_loss: 2.3447 - val_acc: 0.6965\n",
      "Epoch 69/100\n",
      "6000/6000 [==============================] - 8s 1ms/step - loss: 0.0131 - acc: 0.9953 - val_loss: 2.8584 - val_acc: 0.7040\n",
      "Epoch 70/100\n",
      "6000/6000 [==============================] - 8s 1ms/step - loss: 0.0151 - acc: 0.9940 - val_loss: 2.2078 - val_acc: 0.7035\n",
      "Epoch 71/100\n",
      "6000/6000 [==============================] - 8s 1ms/step - loss: 0.0303 - acc: 0.9893 - val_loss: 2.4641 - val_acc: 0.6870\n",
      "Epoch 72/100\n",
      "6000/6000 [==============================] - 8s 1ms/step - loss: 0.0232 - acc: 0.9900 - val_loss: 2.4044 - val_acc: 0.6930\n",
      "Epoch 73/100\n",
      "6000/6000 [==============================] - 7s 1ms/step - loss: 0.0276 - acc: 0.9897 - val_loss: 3.5014 - val_acc: 0.6755\n",
      "Epoch 74/100\n",
      "6000/6000 [==============================] - 7s 1ms/step - loss: 0.0186 - acc: 0.9932 - val_loss: 2.2907 - val_acc: 0.6950\n",
      "Epoch 75/100\n",
      "6000/6000 [==============================] - 7s 1ms/step - loss: 0.0218 - acc: 0.9923 - val_loss: 2.4259 - val_acc: 0.7015\n",
      "Epoch 76/100\n",
      "6000/6000 [==============================] - 7s 1ms/step - loss: 0.0314 - acc: 0.9877 - val_loss: 2.0273 - val_acc: 0.7015\n",
      "Epoch 77/100\n",
      "6000/6000 [==============================] - 7s 1ms/step - loss: 0.0118 - acc: 0.9948 - val_loss: 2.6139 - val_acc: 0.7010\n",
      "Epoch 78/100\n",
      "6000/6000 [==============================] - 7s 1ms/step - loss: 0.0171 - acc: 0.9940 - val_loss: 2.8653 - val_acc: 0.6970\n",
      "Epoch 79/100\n",
      "6000/6000 [==============================] - 7s 1ms/step - loss: 0.0081 - acc: 0.9970 - val_loss: 2.8617 - val_acc: 0.7065\n",
      "Epoch 80/100\n",
      "6000/6000 [==============================] - 7s 1ms/step - loss: 0.0109 - acc: 0.9962 - val_loss: 3.2106 - val_acc: 0.7055\n",
      "Epoch 81/100\n",
      "6000/6000 [==============================] - 7s 1ms/step - loss: 0.0226 - acc: 0.9927 - val_loss: 2.5680 - val_acc: 0.7070\n",
      "Epoch 82/100\n",
      "6000/6000 [==============================] - 7s 1ms/step - loss: 0.0187 - acc: 0.9938 - val_loss: 3.0306 - val_acc: 0.6925\n",
      "Epoch 83/100\n",
      "6000/6000 [==============================] - 7s 1ms/step - loss: 0.0282 - acc: 0.9882 - val_loss: 2.4297 - val_acc: 0.7025\n",
      "Epoch 84/100\n",
      "6000/6000 [==============================] - 7s 1ms/step - loss: 0.0161 - acc: 0.9937 - val_loss: 2.4969 - val_acc: 0.6915\n",
      "Epoch 85/100\n",
      "6000/6000 [==============================] - 8s 1ms/step - loss: 0.0203 - acc: 0.9930 - val_loss: 2.2655 - val_acc: 0.6995\n",
      "Epoch 86/100\n",
      "6000/6000 [==============================] - 8s 1ms/step - loss: 0.0239 - acc: 0.9925 - val_loss: 2.3322 - val_acc: 0.7125\n",
      "Epoch 87/100\n",
      "6000/6000 [==============================] - 7s 1ms/step - loss: 0.0162 - acc: 0.9945 - val_loss: 3.0155 - val_acc: 0.7050\n",
      "Epoch 88/100\n",
      "6000/6000 [==============================] - 8s 1ms/step - loss: 0.0237 - acc: 0.9918 - val_loss: 2.6664 - val_acc: 0.7005\n",
      "Epoch 89/100\n",
      "6000/6000 [==============================] - 8s 1ms/step - loss: 0.0174 - acc: 0.9930 - val_loss: 2.5108 - val_acc: 0.7055\n",
      "Epoch 90/100\n",
      "6000/6000 [==============================] - 7s 1ms/step - loss: 0.0113 - acc: 0.9960 - val_loss: 2.6301 - val_acc: 0.7090\n",
      "Epoch 91/100\n",
      "6000/6000 [==============================] - 7s 1ms/step - loss: 0.0172 - acc: 0.9938 - val_loss: 2.8447 - val_acc: 0.6995\n",
      "Epoch 92/100\n",
      "6000/6000 [==============================] - 8s 1ms/step - loss: 0.0190 - acc: 0.9942 - val_loss: 3.2115 - val_acc: 0.6960\n",
      "Epoch 93/100\n",
      "6000/6000 [==============================] - 8s 1ms/step - loss: 0.0201 - acc: 0.9922 - val_loss: 2.8467 - val_acc: 0.6970\n",
      "Epoch 94/100\n",
      "6000/6000 [==============================] - 7s 1ms/step - loss: 0.0206 - acc: 0.9920 - val_loss: 2.7816 - val_acc: 0.6905\n",
      "Epoch 95/100\n",
      "6000/6000 [==============================] - 7s 1ms/step - loss: 0.0118 - acc: 0.9962 - val_loss: 2.9868 - val_acc: 0.7005\n",
      "Epoch 96/100\n",
      "6000/6000 [==============================] - 7s 1ms/step - loss: 0.0146 - acc: 0.9943 - val_loss: 2.9172 - val_acc: 0.6955\n",
      "Epoch 97/100\n",
      "6000/6000 [==============================] - 7s 1ms/step - loss: 0.0100 - acc: 0.9960 - val_loss: 3.8800 - val_acc: 0.6670\n",
      "Epoch 98/100\n",
      "6000/6000 [==============================] - 7s 1ms/step - loss: 0.0168 - acc: 0.9927 - val_loss: 2.7886 - val_acc: 0.7080\n",
      "Epoch 99/100\n",
      "6000/6000 [==============================] - 8s 1ms/step - loss: 0.0196 - acc: 0.9935 - val_loss: 2.8129 - val_acc: 0.7065\n",
      "Epoch 100/100\n",
      "6000/6000 [==============================] - 7s 1ms/step - loss: 0.0111 - acc: 0.9960 - val_loss: 3.3003 - val_acc: 0.7005\n"
     ]
    }
   ],
   "source": [
    "# Compile model\n",
    "model.compile(optimizer=optimizers.Adam(),\n",
    "              loss='binary_crossentropy',\n",
    "              metrics=['acc'])\n",
    "\n",
    "# Train model using features extracted\n",
    "history = model.fit(train_features, train_labels,\n",
    "                    epochs=epochs,\n",
    "                    batch_size=batch_size,\n",
    "                    validation_data=(validation_features, validation_labels))"
   ]
  },
  {
   "cell_type": "code",
   "execution_count": 24,
   "metadata": {},
   "outputs": [
    {
     "data": {
      "image/png": "[encoded data removed]",
      "text/plain": [
       "<Figure size 432x288 with 1 Axes>"
      ]
     },
     "metadata": {
      "needs_background": "light"
     },
     "output_type": "display_data"
    },
    {
     "data": {
      "image/png": "[encoded data removed]",
      "text/plain": [
       "<Figure size 432x288 with 1 Axes>"
      ]
     },
     "metadata": {
      "needs_background": "light"
     },
     "output_type": "display_data"
    }
   ],
   "source": [
    "acc = history.history['acc']\n",
    "val_acc = history.history['val_acc']\n",
    "loss = history.history['loss']\n",
    "val_loss = history.history['val_loss']\n",
    "\n",
    "epochs = range(len(acc))\n",
    "import matplotlib.pyplot as plt\n",
    "plt.plot(epochs, acc, 'bo', label='Training acc')\n",
    "plt.plot(epochs, val_acc, 'b', label='Validation acc')\n",
    "plt.title('Training and validation accuracy')\n",
    "plt.legend()\n",
    "\n",
    "plt.figure()\n",
    "\n",
    "plt.plot(epochs, loss, 'bo', label='Training loss')\n",
    "plt.plot(epochs, val_loss, 'b', label='Validation loss')\n",
    "plt.title('Training and validation loss')\n",
    "plt.legend()\n",
    "\n",
    "plt.show()"
   ]
  },
  {
   "cell_type": "markdown",
   "metadata": {},
   "source": [
    "Obviously, the model is overfitting because there is a far distance between training curve and validation curve."
   ]
  },
  {
   "cell_type": "code",
   "execution_count": 25,
   "metadata": {},
   "outputs": [
    {
     "name": "stdout",
     "output_type": "stream",
     "text": [
      "The accruacy score is 0.711000\n"
     ]
    }
   ],
   "source": [
    "test_predict=model.predict(test_features)\n",
    "score = accuracy_score(test_labels, test_predict.round())\n",
    "print(\"The accruacy score is %f\" % score)"
   ]
  },
  {
   "cell_type": "markdown",
   "metadata": {},
   "source": [
    "* In order to compare the result with different methods, this time I add a global average pooling layer."
   ]
  },
  {
   "cell_type": "code",
   "execution_count": 26,
   "metadata": {},
   "outputs": [
    {
     "name": "stdout",
     "output_type": "stream",
     "text": [
      "Model: \"sequential_2\"\n",
      "_________________________________________________________________\n",
      "Layer (type)                 Output Shape              Param #   \n",
      "=================================================================\n",
      "global_average_pooling2d_1 ( (None, 512)               0         \n",
      "_________________________________________________________________\n",
      "dense_3 (Dense)              (None, 1)                 513       \n",
      "=================================================================\n",
      "Total params: 513\n",
      "Trainable params: 513\n",
      "Non-trainable params: 0\n",
      "_________________________________________________________________\n"
     ]
    }
   ],
   "source": [
    "# Define model\n",
    "\n",
    "epochs = 100\n",
    "model = Sequential()\n",
    "model.add(GlobalAveragePooling2D(input_shape=(4,4,512)))\n",
    "model.add(Dense(1, activation='sigmoid'))\n",
    "model.summary()"
   ]
  },
  {
   "cell_type": "code",
   "execution_count": 27,
   "metadata": {},
   "outputs": [
    {
     "name": "stdout",
     "output_type": "stream",
     "text": [
      "Train on 6000 samples, validate on 2000 samples\n",
      "Epoch 1/100\n",
      "6000/6000 [==============================] - 1s 212us/step - loss: 0.5432 - acc: 0.7032 - val_loss: 0.7040 - val_acc: 0.5345\n",
      "Epoch 2/100\n",
      "6000/6000 [==============================] - 1s 202us/step - loss: 0.4538 - acc: 0.7948 - val_loss: 0.6876 - val_acc: 0.5705\n",
      "Epoch 3/100\n",
      "6000/6000 [==============================] - 1s 182us/step - loss: 0.4158 - acc: 0.8122 - val_loss: 0.6561 - val_acc: 0.6115\n",
      "Epoch 4/100\n",
      "6000/6000 [==============================] - 1s 169us/step - loss: 0.3940 - acc: 0.8227 - val_loss: 0.6488 - val_acc: 0.6260\n",
      "Epoch 5/100\n",
      "6000/6000 [==============================] - 1s 171us/step - loss: 0.3781 - acc: 0.8307 - val_loss: 0.6534 - val_acc: 0.6290\n",
      "Epoch 6/100\n",
      "6000/6000 [==============================] - 1s 174us/step - loss: 0.3662 - acc: 0.8412 - val_loss: 0.6381 - val_acc: 0.6465\n",
      "Epoch 7/100\n",
      "6000/6000 [==============================] - 1s 172us/step - loss: 0.3577 - acc: 0.8430 - val_loss: 0.6769 - val_acc: 0.6285\n",
      "Epoch 8/100\n",
      "6000/6000 [==============================] - 1s 169us/step - loss: 0.3500 - acc: 0.8497 - val_loss: 0.6989 - val_acc: 0.6265\n",
      "Epoch 9/100\n",
      "6000/6000 [==============================] - 1s 183us/step - loss: 0.3435 - acc: 0.8517 - val_loss: 0.6546 - val_acc: 0.6530\n",
      "Epoch 10/100\n",
      "6000/6000 [==============================] - 1s 172us/step - loss: 0.3378 - acc: 0.8550 - val_loss: 0.6529 - val_acc: 0.6615\n",
      "Epoch 11/100\n",
      "6000/6000 [==============================] - 1s 195us/step - loss: 0.3327 - acc: 0.8563 - val_loss: 0.6860 - val_acc: 0.6465\n",
      "Epoch 12/100\n",
      "6000/6000 [==============================] - 1s 193us/step - loss: 0.3284 - acc: 0.8608 - val_loss: 0.6760 - val_acc: 0.6545\n",
      "Epoch 13/100\n",
      "6000/6000 [==============================] - 1s 196us/step - loss: 0.3246 - acc: 0.8607 - val_loss: 0.6449 - val_acc: 0.6700\n",
      "Epoch 14/100\n",
      "6000/6000 [==============================] - 1s 193us/step - loss: 0.3209 - acc: 0.8638 - val_loss: 0.6578 - val_acc: 0.6680\n",
      "Epoch 15/100\n",
      "6000/6000 [==============================] - 1s 187us/step - loss: 0.3180 - acc: 0.8623 - val_loss: 0.6546 - val_acc: 0.6725\n",
      "Epoch 16/100\n",
      "6000/6000 [==============================] - 1s 193us/step - loss: 0.3158 - acc: 0.8625 - val_loss: 0.6348 - val_acc: 0.6750\n",
      "Epoch 17/100\n",
      "6000/6000 [==============================] - 1s 214us/step - loss: 0.3127 - acc: 0.8653 - val_loss: 0.6873 - val_acc: 0.6640\n",
      "Epoch 18/100\n",
      "6000/6000 [==============================] - 1s 208us/step - loss: 0.3101 - acc: 0.8662 - val_loss: 0.6449 - val_acc: 0.6795\n",
      "Epoch 19/100\n",
      "6000/6000 [==============================] - 1s 195us/step - loss: 0.3078 - acc: 0.8675 - val_loss: 0.6481 - val_acc: 0.6790\n",
      "Epoch 20/100\n",
      "6000/6000 [==============================] - 1s 178us/step - loss: 0.3055 - acc: 0.8675 - val_loss: 0.6562 - val_acc: 0.6780\n",
      "Epoch 21/100\n",
      "6000/6000 [==============================] - 1s 178us/step - loss: 0.3033 - acc: 0.8710 - val_loss: 0.6721 - val_acc: 0.6745\n",
      "Epoch 22/100\n",
      "6000/6000 [==============================] - 1s 181us/step - loss: 0.3017 - acc: 0.8717 - val_loss: 0.6650 - val_acc: 0.6765\n",
      "Epoch 23/100\n",
      "6000/6000 [==============================] - 1s 179us/step - loss: 0.2997 - acc: 0.8717 - val_loss: 0.7084 - val_acc: 0.6680\n",
      "Epoch 24/100\n",
      "6000/6000 [==============================] - 1s 181us/step - loss: 0.2979 - acc: 0.8700 - val_loss: 0.6690 - val_acc: 0.6775\n",
      "Epoch 25/100\n",
      "6000/6000 [==============================] - 1s 171us/step - loss: 0.2965 - acc: 0.8715 - val_loss: 0.6854 - val_acc: 0.6720\n",
      "Epoch 26/100\n",
      "6000/6000 [==============================] - 1s 170us/step - loss: 0.2950 - acc: 0.8753 - val_loss: 0.6465 - val_acc: 0.6860\n",
      "Epoch 27/100\n",
      "6000/6000 [==============================] - 1s 176us/step - loss: 0.2934 - acc: 0.8737 - val_loss: 0.6528 - val_acc: 0.6880\n",
      "Epoch 28/100\n",
      "6000/6000 [==============================] - 1s 170us/step - loss: 0.2919 - acc: 0.8743 - val_loss: 0.6962 - val_acc: 0.6725\n",
      "Epoch 29/100\n",
      "6000/6000 [==============================] - 1s 173us/step - loss: 0.2909 - acc: 0.8763 - val_loss: 0.6823 - val_acc: 0.6750\n",
      "Epoch 30/100\n",
      "6000/6000 [==============================] - 1s 170us/step - loss: 0.2900 - acc: 0.8762 - val_loss: 0.6872 - val_acc: 0.6735\n",
      "Epoch 31/100\n",
      "6000/6000 [==============================] - 1s 192us/step - loss: 0.2883 - acc: 0.8750 - val_loss: 0.6746 - val_acc: 0.6775\n",
      "Epoch 32/100\n",
      "6000/6000 [==============================] - 1s 191us/step - loss: 0.2874 - acc: 0.8762 - val_loss: 0.6888 - val_acc: 0.6720\n",
      "Epoch 33/100\n",
      "6000/6000 [==============================] - 1s 176us/step - loss: 0.2866 - acc: 0.8745 - val_loss: 0.6748 - val_acc: 0.6780\n",
      "Epoch 34/100\n",
      "6000/6000 [==============================] - 1s 173us/step - loss: 0.2848 - acc: 0.8763 - val_loss: 0.6881 - val_acc: 0.6760\n",
      "Epoch 35/100\n",
      "6000/6000 [==============================] - 1s 172us/step - loss: 0.2841 - acc: 0.8790 - val_loss: 0.6997 - val_acc: 0.6745\n",
      "Epoch 36/100\n",
      "6000/6000 [==============================] - 1s 174us/step - loss: 0.2828 - acc: 0.8772 - val_loss: 0.6717 - val_acc: 0.6820\n",
      "Epoch 37/100\n",
      "6000/6000 [==============================] - 1s 171us/step - loss: 0.2822 - acc: 0.8795 - val_loss: 0.6911 - val_acc: 0.6770\n",
      "Epoch 38/100\n",
      "6000/6000 [==============================] - 1s 177us/step - loss: 0.2820 - acc: 0.8765 - val_loss: 0.6711 - val_acc: 0.6835\n",
      "Epoch 39/100\n",
      "6000/6000 [==============================] - 1s 188us/step - loss: 0.2803 - acc: 0.8785 - val_loss: 0.7195 - val_acc: 0.6735\n",
      "Epoch 40/100\n",
      "6000/6000 [==============================] - 1s 170us/step - loss: 0.2795 - acc: 0.8783 - val_loss: 0.6576 - val_acc: 0.6905\n",
      "Epoch 41/100\n",
      "6000/6000 [==============================] - 1s 168us/step - loss: 0.2786 - acc: 0.8805 - val_loss: 0.6920 - val_acc: 0.6790\n",
      "Epoch 42/100\n",
      "6000/6000 [==============================] - 1s 168us/step - loss: 0.2780 - acc: 0.8788 - val_loss: 0.6756 - val_acc: 0.6855\n",
      "Epoch 43/100\n",
      "6000/6000 [==============================] - 1s 173us/step - loss: 0.2775 - acc: 0.8785 - val_loss: 0.6588 - val_acc: 0.6920\n",
      "Epoch 44/100\n",
      "6000/6000 [==============================] - 1s 175us/step - loss: 0.2766 - acc: 0.8795 - val_loss: 0.6775 - val_acc: 0.6870\n",
      "Epoch 45/100\n",
      "6000/6000 [==============================] - 1s 170us/step - loss: 0.2759 - acc: 0.8815 - val_loss: 0.6807 - val_acc: 0.6870\n",
      "Epoch 46/100\n",
      "6000/6000 [==============================] - 1s 190us/step - loss: 0.2749 - acc: 0.8802 - val_loss: 0.7037 - val_acc: 0.6810\n",
      "Epoch 47/100\n",
      "6000/6000 [==============================] - 1s 194us/step - loss: 0.2751 - acc: 0.8822 - val_loss: 0.6880 - val_acc: 0.6850\n",
      "Epoch 48/100\n",
      "6000/6000 [==============================] - 1s 170us/step - loss: 0.2736 - acc: 0.8798 - val_loss: 0.6848 - val_acc: 0.6890\n",
      "Epoch 49/100\n",
      "6000/6000 [==============================] - 1s 171us/step - loss: 0.2733 - acc: 0.8808 - val_loss: 0.6601 - val_acc: 0.6930\n",
      "Epoch 50/100\n",
      "6000/6000 [==============================] - 1s 170us/step - loss: 0.2731 - acc: 0.8837 - val_loss: 0.6805 - val_acc: 0.6885\n",
      "Epoch 51/100\n",
      "6000/6000 [==============================] - 1s 169us/step - loss: 0.2717 - acc: 0.8827 - val_loss: 0.6692 - val_acc: 0.6915\n",
      "Epoch 52/100\n",
      "6000/6000 [==============================] - 1s 169us/step - loss: 0.2712 - acc: 0.8822 - val_loss: 0.7045 - val_acc: 0.6845\n",
      "Epoch 53/100\n",
      "6000/6000 [==============================] - 1s 173us/step - loss: 0.2702 - acc: 0.8835 - val_loss: 0.7090 - val_acc: 0.6840\n",
      "Epoch 54/100\n",
      "6000/6000 [==============================] - 1s 170us/step - loss: 0.2703 - acc: 0.8848 - val_loss: 0.6940 - val_acc: 0.6885\n",
      "Epoch 55/100\n",
      "6000/6000 [==============================] - 1s 172us/step - loss: 0.2694 - acc: 0.8850 - val_loss: 0.7105 - val_acc: 0.6850\n",
      "Epoch 56/100\n",
      "6000/6000 [==============================] - 1s 170us/step - loss: 0.2691 - acc: 0.8835 - val_loss: 0.6822 - val_acc: 0.6895\n",
      "Epoch 57/100\n",
      "6000/6000 [==============================] - 1s 171us/step - loss: 0.2684 - acc: 0.8828 - val_loss: 0.7029 - val_acc: 0.6880\n",
      "Epoch 58/100\n",
      "6000/6000 [==============================] - 1s 169us/step - loss: 0.2678 - acc: 0.8847 - val_loss: 0.7301 - val_acc: 0.6815\n",
      "Epoch 59/100\n",
      "6000/6000 [==============================] - 1s 171us/step - loss: 0.2670 - acc: 0.8845 - val_loss: 0.7178 - val_acc: 0.6875\n",
      "Epoch 60/100\n"
     ]
    },
    {
     "name": "stdout",
     "output_type": "stream",
     "text": [
      "6000/6000 [==============================] - 1s 191us/step - loss: 0.2668 - acc: 0.8842 - val_loss: 0.6953 - val_acc: 0.6900\n",
      "Epoch 61/100\n",
      "6000/6000 [==============================] - 1s 195us/step - loss: 0.2672 - acc: 0.8843 - val_loss: 0.7096 - val_acc: 0.6885\n",
      "Epoch 62/100\n",
      "6000/6000 [==============================] - 1s 206us/step - loss: 0.2662 - acc: 0.8832 - val_loss: 0.6959 - val_acc: 0.6890\n",
      "Epoch 63/100\n",
      "6000/6000 [==============================] - 1s 184us/step - loss: 0.2653 - acc: 0.8845 - val_loss: 0.6988 - val_acc: 0.6915\n",
      "Epoch 64/100\n",
      "6000/6000 [==============================] - 1s 164us/step - loss: 0.2652 - acc: 0.8848 - val_loss: 0.6758 - val_acc: 0.6950\n",
      "Epoch 65/100\n",
      "6000/6000 [==============================] - 1s 178us/step - loss: 0.2640 - acc: 0.8857 - val_loss: 0.6617 - val_acc: 0.6955\n",
      "Epoch 66/100\n",
      "6000/6000 [==============================] - 1s 163us/step - loss: 0.2640 - acc: 0.8842 - val_loss: 0.6815 - val_acc: 0.6925\n",
      "Epoch 67/100\n",
      "6000/6000 [==============================] - 1s 173us/step - loss: 0.2633 - acc: 0.8845 - val_loss: 0.6983 - val_acc: 0.6910\n",
      "Epoch 68/100\n",
      "6000/6000 [==============================] - 1s 178us/step - loss: 0.2630 - acc: 0.8850 - val_loss: 0.6944 - val_acc: 0.6915\n",
      "Epoch 69/100\n",
      "6000/6000 [==============================] - 1s 202us/step - loss: 0.2629 - acc: 0.8848 - val_loss: 0.7032 - val_acc: 0.6920\n",
      "Epoch 70/100\n",
      "6000/6000 [==============================] - 1s 172us/step - loss: 0.2622 - acc: 0.8883 - val_loss: 0.6726 - val_acc: 0.6960\n",
      "Epoch 71/100\n",
      "6000/6000 [==============================] - 1s 168us/step - loss: 0.2619 - acc: 0.8863 - val_loss: 0.7015 - val_acc: 0.6925\n",
      "Epoch 72/100\n",
      "6000/6000 [==============================] - 1s 171us/step - loss: 0.2620 - acc: 0.8853 - val_loss: 0.7365 - val_acc: 0.6850\n",
      "Epoch 73/100\n",
      "6000/6000 [==============================] - 1s 188us/step - loss: 0.2614 - acc: 0.8870 - val_loss: 0.7079 - val_acc: 0.6940\n",
      "Epoch 74/100\n",
      "6000/6000 [==============================] - 1s 185us/step - loss: 0.2614 - acc: 0.8848 - val_loss: 0.6851 - val_acc: 0.6945\n",
      "Epoch 75/100\n",
      "6000/6000 [==============================] - 1s 179us/step - loss: 0.2605 - acc: 0.8863 - val_loss: 0.7126 - val_acc: 0.6920\n",
      "Epoch 76/100\n",
      "6000/6000 [==============================] - 1s 225us/step - loss: 0.2596 - acc: 0.8873 - val_loss: 0.6827 - val_acc: 0.6960\n",
      "Epoch 77/100\n",
      "6000/6000 [==============================] - 1s 244us/step - loss: 0.2600 - acc: 0.8858 - val_loss: 0.6892 - val_acc: 0.6945\n",
      "Epoch 78/100\n",
      "6000/6000 [==============================] - 1s 209us/step - loss: 0.2595 - acc: 0.8862 - val_loss: 0.7015 - val_acc: 0.6945\n",
      "Epoch 79/100\n",
      "6000/6000 [==============================] - 1s 182us/step - loss: 0.2591 - acc: 0.8877 - val_loss: 0.7151 - val_acc: 0.6930\n",
      "Epoch 80/100\n",
      "6000/6000 [==============================] - 1s 171us/step - loss: 0.2586 - acc: 0.8855 - val_loss: 0.7009 - val_acc: 0.6945\n",
      "Epoch 81/100\n",
      "6000/6000 [==============================] - 1s 210us/step - loss: 0.2588 - acc: 0.8870 - val_loss: 0.7287 - val_acc: 0.6885\n",
      "Epoch 82/100\n",
      "6000/6000 [==============================] - 1s 187us/step - loss: 0.2581 - acc: 0.8888 - val_loss: 0.6920 - val_acc: 0.6940\n",
      "Epoch 83/100\n",
      "6000/6000 [==============================] - 1s 187us/step - loss: 0.2582 - acc: 0.8862 - val_loss: 0.7159 - val_acc: 0.6935\n",
      "Epoch 84/100\n",
      "6000/6000 [==============================] - 1s 206us/step - loss: 0.2577 - acc: 0.8862 - val_loss: 0.6865 - val_acc: 0.6945\n",
      "Epoch 85/100\n",
      "6000/6000 [==============================] - 1s 174us/step - loss: 0.2572 - acc: 0.8883 - val_loss: 0.7063 - val_acc: 0.6955\n",
      "Epoch 86/100\n",
      "6000/6000 [==============================] - 1s 201us/step - loss: 0.2569 - acc: 0.8877 - val_loss: 0.7028 - val_acc: 0.6950\n",
      "Epoch 87/100\n",
      "6000/6000 [==============================] - 1s 206us/step - loss: 0.2568 - acc: 0.8873 - val_loss: 0.7125 - val_acc: 0.6950\n",
      "Epoch 88/100\n",
      "6000/6000 [==============================] - 1s 223us/step - loss: 0.2571 - acc: 0.8888 - val_loss: 0.7151 - val_acc: 0.6950\n",
      "Epoch 89/100\n",
      "6000/6000 [==============================] - 1s 175us/step - loss: 0.2563 - acc: 0.8900 - val_loss: 0.6914 - val_acc: 0.6950\n",
      "Epoch 90/100\n",
      "6000/6000 [==============================] - 1s 221us/step - loss: 0.2557 - acc: 0.8887 - val_loss: 0.7106 - val_acc: 0.6950\n",
      "Epoch 91/100\n",
      "6000/6000 [==============================] - 1s 229us/step - loss: 0.2556 - acc: 0.8877 - val_loss: 0.7256 - val_acc: 0.6925\n",
      "Epoch 92/100\n",
      "6000/6000 [==============================] - 1s 188us/step - loss: 0.2557 - acc: 0.8883 - val_loss: 0.7029 - val_acc: 0.6935\n",
      "Epoch 93/100\n",
      "6000/6000 [==============================] - 1s 179us/step - loss: 0.2551 - acc: 0.8900 - val_loss: 0.6927 - val_acc: 0.6945\n",
      "Epoch 94/100\n",
      "6000/6000 [==============================] - 1s 203us/step - loss: 0.2552 - acc: 0.8883 - val_loss: 0.6977 - val_acc: 0.6950\n",
      "Epoch 95/100\n",
      "6000/6000 [==============================] - 1s 181us/step - loss: 0.2548 - acc: 0.8905 - val_loss: 0.6789 - val_acc: 0.6945\n",
      "Epoch 96/100\n",
      "6000/6000 [==============================] - 1s 195us/step - loss: 0.2542 - acc: 0.8890 - val_loss: 0.7059 - val_acc: 0.6935\n",
      "Epoch 97/100\n",
      "6000/6000 [==============================] - 1s 189us/step - loss: 0.2545 - acc: 0.8895 - val_loss: 0.7138 - val_acc: 0.6960\n",
      "Epoch 98/100\n",
      "6000/6000 [==============================] - 1s 202us/step - loss: 0.2540 - acc: 0.8898 - val_loss: 0.7116 - val_acc: 0.6950\n",
      "Epoch 99/100\n",
      "6000/6000 [==============================] - 1s 191us/step - loss: 0.2533 - acc: 0.8898 - val_loss: 0.7029 - val_acc: 0.6935\n",
      "Epoch 100/100\n",
      "6000/6000 [==============================] - 1s 183us/step - loss: 0.2531 - acc: 0.8897 - val_loss: 0.7135 - val_acc: 0.6955\n"
     ]
    }
   ],
   "source": [
    "# Compile model\n",
    "model.compile(optimizer=optimizers.Adam(),\n",
    "              loss='binary_crossentropy',\n",
    "              metrics=['acc'])\n",
    "\n",
    "# Train model\n",
    "history = model.fit(train_features, \n",
    "                    train_labels,\n",
    "                    epochs=epochs,\n",
    "                    batch_size=batch_size,\n",
    "                    validation_data=(validation_features, validation_labels))"
   ]
  },
  {
   "cell_type": "code",
   "execution_count": 28,
   "metadata": {},
   "outputs": [
    {
     "data": {
      "image/png": "[encoded data removed]",
      "text/plain": [
       "<Figure size 432x288 with 1 Axes>"
      ]
     },
     "metadata": {
      "needs_background": "light"
     },
     "output_type": "display_data"
    },
    {
     "data": {
      "image/png": "[encoded data removed]",
      "text/plain": [
       "<Figure size 432x288 with 1 Axes>"
      ]
     },
     "metadata": {
      "needs_background": "light"
     },
     "output_type": "display_data"
    }
   ],
   "source": [
    "acc = history.history['acc']\n",
    "val_acc = history.history['val_acc']\n",
    "loss = history.history['loss']\n",
    "val_loss = history.history['val_loss']\n",
    "\n",
    "epochs = range(len(acc))\n",
    "import matplotlib.pyplot as plt\n",
    "plt.plot(epochs, acc, 'bo', label='Training acc')\n",
    "plt.plot(epochs, val_acc, 'b', label='Validation acc')\n",
    "plt.title('Training and validation accuracy')\n",
    "plt.legend()\n",
    "\n",
    "plt.figure()\n",
    "\n",
    "plt.plot(epochs, loss, 'bo', label='Training loss')\n",
    "plt.plot(epochs, val_loss, 'b', label='Validation loss')\n",
    "plt.title('Training and validation loss')\n",
    "plt.legend()\n",
    "\n",
    "plt.show()"
   ]
  },
  {
   "cell_type": "code",
   "execution_count": 29,
   "metadata": {},
   "outputs": [
    {
     "name": "stdout",
     "output_type": "stream",
     "text": [
      "The accruacy score is 0.733500\n"
     ]
    }
   ],
   "source": [
    "test_predict=model.predict(test_features)\n",
    "score = accuracy_score(test_labels, test_predict.round())\n",
    "print(\"The accruacy score is %f\" % score)"
   ]
  },
  {
   "cell_type": "code",
   "execution_count": 62,
   "metadata": {},
   "outputs": [
    {
     "name": "stdout",
     "output_type": "stream",
     "text": [
      "(1, 150, 150, 3)\n"
     ]
    }
   ],
   "source": [
    "# We preprocess the image into a 4D tensor\n",
    "from keras.preprocessing import image\n",
    "import numpy as np\n",
    "\n",
    "img = image.load_img(img_path, target_size=(150, 150))\n",
    "img_tensor = image.img_to_array(img)\n",
    "img_tensor = np.expand_dims(img_tensor, axis=0)\n",
    "# Remember that the model was trained on inputs\n",
    "# that were preprocessed in the following way:\n",
    "img_tensor /= 255.\n",
    "\n",
    "# Its shape is (1, 150, 150, 3)\n",
    "print(img_tensor.shape)"
   ]
  },
  {
   "cell_type": "code",
   "execution_count": null,
   "metadata": {},
   "outputs": [],
   "source": [
    "from keras import models\n",
    "\n",
    "# Extracts the outputs of the top 8 layers:\n",
    "layer_outputs = [layer.output for layer in model.layers[:8]]\n",
    "# Creates a model that will return these outputs, given the model input:\n",
    "activation_model = models.Model(inputs=model.input, outputs=layer_outputs)"
   ]
  },
  {
   "cell_type": "code",
   "execution_count": null,
   "metadata": {},
   "outputs": [],
   "source": [
    "# This will return a list of 5 Numpy arrays:\n",
    "# one array per layer activation\n",
    "activations = activation_model.predict(img_tensor)\n",
    "first_layer_activation = activations[0]\n",
    "print(first_layer_activation.shape)"
   ]
  },
  {
   "cell_type": "code",
   "execution_count": null,
   "metadata": {},
   "outputs": [],
   "source": [
    "from keras.applications.vgg19 import VGG19\n",
    "from keras.preprocessing import image\n",
    "from keras.applications.vgg19 import preprocess_input\n",
    "from keras.models import Model\n",
    "import numpy as np\n",
    "import matplotlib.pyplot as plt\n",
    "from pylab import *\n",
    " \n",
    "\n",
    "def get_row_col(num_pic):\n",
    "    squr = num_pic ** 0.5\n",
    "    row = round(squr)\n",
    "    col = row + 1 if squr - row > 0 else row\n",
    "    return row, col\n",
    " \n",
    "\n",
    "def visualize_feature_map(img_batch):\n",
    "    feature_map = img_batch\n",
    "    print(feature_map.shape)\n",
    " \n",
    "    feature_map_combination = []\n",
    "    plt.figure()\n",
    " \n",
    "    num_pic = feature_map.shape[2]\n",
    "    row, col = get_row_col(num_pic)\n",
    " \n",
    "    for i in range(0, num_pic):\n",
    "        feature_map_split = feature_map[:, :, i]\n",
    "        feature_map_combination.append(feature_map_split)\n",
    "        plt.subplot(row, col, i + 1)\n",
    "        plt.imshow(feature_map_split)\n",
    "        axis('off')\n",
    " \n",
    "    plt.savefig('feature_map.png')\n",
    "    plt.show()\n",
    "\n",
    "    feature_map_sum = sum(ele for ele in feature_map_combination)\n",
    "    plt.imshow(feature_map_sum)\n",
    "    plt.savefig(\"feature_map_sum.png\")\n"
   ]
  },
  {
   "cell_type": "code",
   "execution_count": 67,
   "metadata": {},
   "outputs": [
    {
     "name": "stdout",
     "output_type": "stream",
     "text": [
      "(1, 4, 4, 512)\n",
      "(4, 4, 512)\n"
     ]
    },
    {
     "data": {
      "image/png": "[encoded data removed]",
      "text/plain": [
       "<Figure size 432x288 with 512 Axes>"
      ]
     },
     "metadata": {
      "needs_background": "light"
     },
     "output_type": "display_data"
    },
    {
     "name": "stderr",
     "output_type": "stream",
     "text": [
      "C:\\Users\\liulu\\Anaconda3\\lib\\site-packages\\ipykernel_launcher.py:38: DeprecationWarning: Calling np.sum(generator) is deprecated, and in the future will give a different result. Use np.sum(np.fromiter(generator)) or the python sum builtin instead.\n"
     ]
    },
    {
     "data": {
      "image/png": "[encoded data removed]",
      "text/plain": [
       "<Figure size 432x288 with 1 Axes>"
      ]
     },
     "metadata": {
      "needs_background": "light"
     },
     "output_type": "display_data"
    }
   ],
   "source": [
    "# model = Model(inputs=base_model.input, outputs=base_model.get_layer('block1_pool').output)\n",
    "# model = Model(inputs=base_model.input, outputs=base_model.get_layer('block2_pool').output)\n",
    "# model = Model(inputs=base_model.input, outputs=base_model.get_layer('block3_pool').output)\n",
    "# model = Model(inputs=base_model.input, outputs=base_model.get_layer('block4_pool').output)\n",
    "model = Model(inputs=conv_base.input, outputs=conv_base.get_layer('block5_pool').output)\n",
    "x = image.img_to_array(img)\n",
    "x = np.expand_dims(x, axis=0)\n",
    "x = preprocess_input(x)\n",
    "block_pool_features = model.predict(x)\n",
    "print(block_pool_features.shape)\n",
    "\n",
    "feature = block_pool_features.reshape(block_pool_features.shape[1:])\n",
    "\n",
    "visualize_feature_map(feature)\n"
   ]
  },
  {
   "cell_type": "markdown",
   "metadata": {},
   "source": [
    "* Train svm classifier using features extracted"
   ]
  },
  {
   "cell_type": "code",
   "execution_count": 30,
   "metadata": {},
   "outputs": [],
   "source": [
    "# Concatenate training and validation sets\n",
    "svm_features = np.concatenate((train_features, \n",
    "                               validation_features))\n",
    "\n",
    "svm_labels = np.concatenate((train_labels, \n",
    "                             validation_labels))"
   ]
  },
  {
   "cell_type": "code",
   "execution_count": 32,
   "metadata": {},
   "outputs": [],
   "source": [
    "# Build model\n",
    "X_train, y_train = svm_features.reshape(8000,4*4*512), svm_labels\n",
    "param = [{\"C\": [0.01, 0.1, 1, 10, 100]}]\n",
    "svm = LinearSVC(penalty='l2', loss='squared_hinge')\n",
    "clf = GridSearchCV(svm, param, cv=10)"
   ]
  },
  {
   "cell_type": "code",
   "execution_count": 33,
   "metadata": {},
   "outputs": [
    {
     "name": "stderr",
     "output_type": "stream",
     "text": [
      "C:\\Users\\liulu\\Anaconda3\\lib\\site-packages\\sklearn\\svm\\base.py:922: ConvergenceWarning: Liblinear failed to converge, increase the number of iterations.\n",
      "  \"the number of iterations.\", ConvergenceWarning)\n",
      "C:\\Users\\liulu\\Anaconda3\\lib\\site-packages\\sklearn\\svm\\base.py:922: ConvergenceWarning: Liblinear failed to converge, increase the number of iterations.\n",
      "  \"the number of iterations.\", ConvergenceWarning)\n",
      "C:\\Users\\liulu\\Anaconda3\\lib\\site-packages\\sklearn\\svm\\base.py:922: ConvergenceWarning: Liblinear failed to converge, increase the number of iterations.\n",
      "  \"the number of iterations.\", ConvergenceWarning)\n",
      "C:\\Users\\liulu\\Anaconda3\\lib\\site-packages\\sklearn\\svm\\base.py:922: ConvergenceWarning: Liblinear failed to converge, increase the number of iterations.\n",
      "  \"the number of iterations.\", ConvergenceWarning)\n",
      "C:\\Users\\liulu\\Anaconda3\\lib\\site-packages\\sklearn\\svm\\base.py:922: ConvergenceWarning: Liblinear failed to converge, increase the number of iterations.\n",
      "  \"the number of iterations.\", ConvergenceWarning)\n",
      "C:\\Users\\liulu\\Anaconda3\\lib\\site-packages\\sklearn\\svm\\base.py:922: ConvergenceWarning: Liblinear failed to converge, increase the number of iterations.\n",
      "  \"the number of iterations.\", ConvergenceWarning)\n",
      "C:\\Users\\liulu\\Anaconda3\\lib\\site-packages\\sklearn\\svm\\base.py:922: ConvergenceWarning: Liblinear failed to converge, increase the number of iterations.\n",
      "  \"the number of iterations.\", ConvergenceWarning)\n",
      "C:\\Users\\liulu\\Anaconda3\\lib\\site-packages\\sklearn\\svm\\base.py:922: ConvergenceWarning: Liblinear failed to converge, increase the number of iterations.\n",
      "  \"the number of iterations.\", ConvergenceWarning)\n",
      "C:\\Users\\liulu\\Anaconda3\\lib\\site-packages\\sklearn\\svm\\base.py:922: ConvergenceWarning: Liblinear failed to converge, increase the number of iterations.\n",
      "  \"the number of iterations.\", ConvergenceWarning)\n",
      "C:\\Users\\liulu\\Anaconda3\\lib\\site-packages\\sklearn\\svm\\base.py:922: ConvergenceWarning: Liblinear failed to converge, increase the number of iterations.\n",
      "  \"the number of iterations.\", ConvergenceWarning)\n",
      "C:\\Users\\liulu\\Anaconda3\\lib\\site-packages\\sklearn\\svm\\base.py:922: ConvergenceWarning: Liblinear failed to converge, increase the number of iterations.\n",
      "  \"the number of iterations.\", ConvergenceWarning)\n",
      "C:\\Users\\liulu\\Anaconda3\\lib\\site-packages\\sklearn\\svm\\base.py:922: ConvergenceWarning: Liblinear failed to converge, increase the number of iterations.\n",
      "  \"the number of iterations.\", ConvergenceWarning)\n",
      "C:\\Users\\liulu\\Anaconda3\\lib\\site-packages\\sklearn\\svm\\base.py:922: ConvergenceWarning: Liblinear failed to converge, increase the number of iterations.\n",
      "  \"the number of iterations.\", ConvergenceWarning)\n",
      "C:\\Users\\liulu\\Anaconda3\\lib\\site-packages\\sklearn\\svm\\base.py:922: ConvergenceWarning: Liblinear failed to converge, increase the number of iterations.\n",
      "  \"the number of iterations.\", ConvergenceWarning)\n",
      "C:\\Users\\liulu\\Anaconda3\\lib\\site-packages\\sklearn\\svm\\base.py:922: ConvergenceWarning: Liblinear failed to converge, increase the number of iterations.\n",
      "  \"the number of iterations.\", ConvergenceWarning)\n",
      "C:\\Users\\liulu\\Anaconda3\\lib\\site-packages\\sklearn\\svm\\base.py:922: ConvergenceWarning: Liblinear failed to converge, increase the number of iterations.\n",
      "  \"the number of iterations.\", ConvergenceWarning)\n",
      "C:\\Users\\liulu\\Anaconda3\\lib\\site-packages\\sklearn\\svm\\base.py:922: ConvergenceWarning: Liblinear failed to converge, increase the number of iterations.\n",
      "  \"the number of iterations.\", ConvergenceWarning)\n",
      "C:\\Users\\liulu\\Anaconda3\\lib\\site-packages\\sklearn\\svm\\base.py:922: ConvergenceWarning: Liblinear failed to converge, increase the number of iterations.\n",
      "  \"the number of iterations.\", ConvergenceWarning)\n",
      "C:\\Users\\liulu\\Anaconda3\\lib\\site-packages\\sklearn\\svm\\base.py:922: ConvergenceWarning: Liblinear failed to converge, increase the number of iterations.\n",
      "  \"the number of iterations.\", ConvergenceWarning)\n",
      "C:\\Users\\liulu\\Anaconda3\\lib\\site-packages\\sklearn\\svm\\base.py:922: ConvergenceWarning: Liblinear failed to converge, increase the number of iterations.\n",
      "  \"the number of iterations.\", ConvergenceWarning)\n",
      "C:\\Users\\liulu\\Anaconda3\\lib\\site-packages\\sklearn\\svm\\base.py:922: ConvergenceWarning: Liblinear failed to converge, increase the number of iterations.\n",
      "  \"the number of iterations.\", ConvergenceWarning)\n",
      "C:\\Users\\liulu\\Anaconda3\\lib\\site-packages\\sklearn\\svm\\base.py:922: ConvergenceWarning: Liblinear failed to converge, increase the number of iterations.\n",
      "  \"the number of iterations.\", ConvergenceWarning)\n",
      "C:\\Users\\liulu\\Anaconda3\\lib\\site-packages\\sklearn\\svm\\base.py:922: ConvergenceWarning: Liblinear failed to converge, increase the number of iterations.\n",
      "  \"the number of iterations.\", ConvergenceWarning)\n",
      "C:\\Users\\liulu\\Anaconda3\\lib\\site-packages\\sklearn\\svm\\base.py:922: ConvergenceWarning: Liblinear failed to converge, increase the number of iterations.\n",
      "  \"the number of iterations.\", ConvergenceWarning)\n",
      "C:\\Users\\liulu\\Anaconda3\\lib\\site-packages\\sklearn\\svm\\base.py:922: ConvergenceWarning: Liblinear failed to converge, increase the number of iterations.\n",
      "  \"the number of iterations.\", ConvergenceWarning)\n",
      "C:\\Users\\liulu\\Anaconda3\\lib\\site-packages\\sklearn\\svm\\base.py:922: ConvergenceWarning: Liblinear failed to converge, increase the number of iterations.\n",
      "  \"the number of iterations.\", ConvergenceWarning)\n",
      "C:\\Users\\liulu\\Anaconda3\\lib\\site-packages\\sklearn\\svm\\base.py:922: ConvergenceWarning: Liblinear failed to converge, increase the number of iterations.\n",
      "  \"the number of iterations.\", ConvergenceWarning)\n",
      "C:\\Users\\liulu\\Anaconda3\\lib\\site-packages\\sklearn\\svm\\base.py:922: ConvergenceWarning: Liblinear failed to converge, increase the number of iterations.\n",
      "  \"the number of iterations.\", ConvergenceWarning)\n",
      "C:\\Users\\liulu\\Anaconda3\\lib\\site-packages\\sklearn\\svm\\base.py:922: ConvergenceWarning: Liblinear failed to converge, increase the number of iterations.\n",
      "  \"the number of iterations.\", ConvergenceWarning)\n",
      "C:\\Users\\liulu\\Anaconda3\\lib\\site-packages\\sklearn\\svm\\base.py:922: ConvergenceWarning: Liblinear failed to converge, increase the number of iterations.\n",
      "  \"the number of iterations.\", ConvergenceWarning)\n",
      "C:\\Users\\liulu\\Anaconda3\\lib\\site-packages\\sklearn\\svm\\base.py:922: ConvergenceWarning: Liblinear failed to converge, increase the number of iterations.\n",
      "  \"the number of iterations.\", ConvergenceWarning)\n",
      "C:\\Users\\liulu\\Anaconda3\\lib\\site-packages\\sklearn\\svm\\base.py:922: ConvergenceWarning: Liblinear failed to converge, increase the number of iterations.\n",
      "  \"the number of iterations.\", ConvergenceWarning)\n",
      "C:\\Users\\liulu\\Anaconda3\\lib\\site-packages\\sklearn\\svm\\base.py:922: ConvergenceWarning: Liblinear failed to converge, increase the number of iterations.\n",
      "  \"the number of iterations.\", ConvergenceWarning)\n",
      "C:\\Users\\liulu\\Anaconda3\\lib\\site-packages\\sklearn\\svm\\base.py:922: ConvergenceWarning: Liblinear failed to converge, increase the number of iterations.\n",
      "  \"the number of iterations.\", ConvergenceWarning)\n",
      "C:\\Users\\liulu\\Anaconda3\\lib\\site-packages\\sklearn\\svm\\base.py:922: ConvergenceWarning: Liblinear failed to converge, increase the number of iterations.\n",
      "  \"the number of iterations.\", ConvergenceWarning)\n",
      "C:\\Users\\liulu\\Anaconda3\\lib\\site-packages\\sklearn\\svm\\base.py:922: ConvergenceWarning: Liblinear failed to converge, increase the number of iterations.\n",
      "  \"the number of iterations.\", ConvergenceWarning)\n",
      "C:\\Users\\liulu\\Anaconda3\\lib\\site-packages\\sklearn\\svm\\base.py:922: ConvergenceWarning: Liblinear failed to converge, increase the number of iterations.\n",
      "  \"the number of iterations.\", ConvergenceWarning)\n",
      "C:\\Users\\liulu\\Anaconda3\\lib\\site-packages\\sklearn\\svm\\base.py:922: ConvergenceWarning: Liblinear failed to converge, increase the number of iterations.\n",
      "  \"the number of iterations.\", ConvergenceWarning)\n",
      "C:\\Users\\liulu\\Anaconda3\\lib\\site-packages\\sklearn\\svm\\base.py:922: ConvergenceWarning: Liblinear failed to converge, increase the number of iterations.\n",
      "  \"the number of iterations.\", ConvergenceWarning)\n",
      "C:\\Users\\liulu\\Anaconda3\\lib\\site-packages\\sklearn\\svm\\base.py:922: ConvergenceWarning: Liblinear failed to converge, increase the number of iterations.\n",
      "  \"the number of iterations.\", ConvergenceWarning)\n"
     ]
    },
    {
     "data": {
      "text/plain": [
       "GridSearchCV(cv=10, error_score='raise-deprecating',\n",
       "       estimator=LinearSVC(C=1.0, class_weight=None, dual=True, fit_intercept=True,\n",
       "     intercept_scaling=1, loss='squared_hinge', max_iter=1000,\n",
       "     multi_class='ovr', penalty='l2', random_state=None, tol=0.0001,\n",
       "     verbose=0),\n",
       "       fit_params=None, iid='warn', n_jobs=None,\n",
       "       param_grid=[{'C': [0.01, 0.1, 1, 10, 100]}],\n",
       "       pre_dispatch='2*n_jobs', refit=True, return_train_score='warn',\n",
       "       scoring=None, verbose=0)"
      ]
     },
     "execution_count": 33,
     "metadata": {},
     "output_type": "execute_result"
    }
   ],
   "source": [
    "clf.fit(X_train, y_train)"
   ]
  },
  {
   "cell_type": "code",
   "execution_count": 35,
   "metadata": {},
   "outputs": [
    {
     "name": "stdout",
     "output_type": "stream",
     "text": [
      "The accruacy score is 0.742000\n"
     ]
    }
   ],
   "source": [
    "test_predict=clf.predict(test_features.reshape(2000,4*4*512))\n",
    "score = accuracy_score(test_labels, test_predict)\n",
    "print(\"The accruacy score is %f\" % score)"
   ]
  },
  {
   "cell_type": "markdown",
   "metadata": {},
   "source": [
    "* Reduce overfitting by using generator"
   ]
  },
  {
   "cell_type": "code",
   "execution_count": 69,
   "metadata": {},
   "outputs": [
    {
     "name": "stdout",
     "output_type": "stream",
     "text": [
      "Found 6000 images belonging to 2 classes.\n",
      "Found 2000 images belonging to 2 classes.\n"
     ]
    }
   ],
   "source": [
    "from keras.preprocessing.image import ImageDataGenerator\n",
    "\n",
    "# All images will be rescaled by 1./255\n",
    "train_datagen = ImageDataGenerator(rescale=1./255)\n",
    "test_datagen = ImageDataGenerator(rescale=1./255)\n",
    "\n",
    "train_generator = train_datagen.flow_from_directory(\n",
    "        # This is the target directory\n",
    "        train_dir,\n",
    "        # All images will be resized to 150x150\n",
    "        target_size=(150, 150),\n",
    "        batch_size=32,\n",
    "        # Since we use binary_crossentropy loss, we need binary labels\n",
    "        class_mode='binary')\n",
    "\n",
    "validation_generator = test_datagen.flow_from_directory(\n",
    "        validation_dir,\n",
    "        target_size=(150, 150),\n",
    "        batch_size=32,\n",
    "        class_mode='binary')"
   ]
  },
  {
   "cell_type": "code",
   "execution_count": 70,
   "metadata": {},
   "outputs": [
    {
     "name": "stdout",
     "output_type": "stream",
     "text": [
      "data batch shape: (32, 150, 150, 3)\n",
      "labels batch shape: (32,)\n"
     ]
    }
   ],
   "source": [
    "for data_batch, labels_batch in train_generator:\n",
    "    print('data batch shape:', data_batch.shape)\n",
    "    print('labels batch shape:', labels_batch.shape)\n",
    "    break"
   ]
  },
  {
   "cell_type": "code",
   "execution_count": 74,
   "metadata": {},
   "outputs": [
    {
     "name": "stdout",
     "output_type": "stream",
     "text": [
      "Model: \"sequential_4\"\n",
      "_________________________________________________________________\n",
      "Layer (type)                 Output Shape              Param #   \n",
      "=================================================================\n",
      "vgg16 (Model)                (None, 4, 4, 512)         14714688  \n",
      "_________________________________________________________________\n",
      "flatten_3 (Flatten)          (None, 8192)              0         \n",
      "_________________________________________________________________\n",
      "dense_6 (Dense)              (None, 256)               2097408   \n",
      "_________________________________________________________________\n",
      "dense_7 (Dense)              (None, 1)                 257       \n",
      "=================================================================\n",
      "Total params: 16,812,353\n",
      "Trainable params: 2,097,665\n",
      "Non-trainable params: 14,714,688\n",
      "_________________________________________________________________\n"
     ]
    }
   ],
   "source": [
    "from keras import models\n",
    "from keras.layers import Dense, Dropout, Flatten\n",
    "from keras import optimizers\n",
    "\n",
    "model = models.Sequential()\n",
    "model.add(conv_base)\n",
    "model.add(Flatten())\n",
    "model.add(Dense(256, activation = 'relu'))\n",
    "model.add(Dense(1, activation = 'sigmoid'))\n",
    "model.summary()"
   ]
  },
  {
   "cell_type": "code",
   "execution_count": 73,
   "metadata": {},
   "outputs": [],
   "source": [
    "conv_base.trainable = False"
   ]
  },
  {
   "cell_type": "code",
   "execution_count": 75,
   "metadata": {},
   "outputs": [
    {
     "name": "stdout",
     "output_type": "stream",
     "text": [
      "Epoch 1/100\n",
      "100/100 [==============================] - 486s 5s/step - loss: 0.4842 - acc: 0.7864 - val_loss: 1.0587 - val_acc: 0.5819\n",
      "Epoch 2/100\n",
      "100/100 [==============================] - 550s 5s/step - loss: 0.3069 - acc: 0.8681 - val_loss: 0.7238 - val_acc: 0.6970\n",
      "Epoch 3/100\n",
      "100/100 [==============================] - 586s 6s/step - loss: 0.2403 - acc: 0.8997 - val_loss: 0.4637 - val_acc: 0.6711\n",
      "Epoch 4/100\n",
      "100/100 [==============================] - 584s 6s/step - loss: 0.2450 - acc: 0.8967 - val_loss: 1.0830 - val_acc: 0.7039\n",
      "Epoch 5/100\n",
      "100/100 [==============================] - 612s 6s/step - loss: 0.1792 - acc: 0.9300 - val_loss: 0.5259 - val_acc: 0.7150\n",
      "Epoch 6/100\n",
      "100/100 [==============================] - 613s 6s/step - loss: 0.1826 - acc: 0.9269 - val_loss: 1.2042 - val_acc: 0.6806\n",
      "Epoch 7/100\n",
      "100/100 [==============================] - 662s 7s/step - loss: 0.1386 - acc: 0.9460 - val_loss: 0.6219 - val_acc: 0.7008\n",
      "Epoch 8/100\n",
      "100/100 [==============================] - 709s 7s/step - loss: 0.1224 - acc: 0.9503 - val_loss: 1.0618 - val_acc: 0.7001\n",
      "Epoch 9/100\n",
      "100/100 [==============================] - 688s 7s/step - loss: 0.1043 - acc: 0.9619 - val_loss: 0.3768 - val_acc: 0.6843\n",
      "Epoch 10/100\n",
      "100/100 [==============================] - 588s 6s/step - loss: 0.0693 - acc: 0.9773 - val_loss: 0.6744 - val_acc: 0.6950\n",
      "Epoch 11/100\n",
      "100/100 [==============================] - 629s 6s/step - loss: 0.0760 - acc: 0.9731 - val_loss: 1.6397 - val_acc: 0.6856\n",
      "Epoch 12/100\n",
      "100/100 [==============================] - 594s 6s/step - loss: 0.0538 - acc: 0.9828 - val_loss: 0.2020 - val_acc: 0.6812\n",
      "Epoch 13/100\n",
      "100/100 [==============================] - 548s 5s/step - loss: 0.0463 - acc: 0.9871 - val_loss: 2.2613 - val_acc: 0.6881\n",
      "Epoch 14/100\n",
      "100/100 [==============================] - 610s 6s/step - loss: 0.0292 - acc: 0.9931 - val_loss: 1.4381 - val_acc: 0.6862\n",
      "Epoch 15/100\n",
      "100/100 [==============================] - 624s 6s/step - loss: 0.0294 - acc: 0.9925 - val_loss: 1.5677 - val_acc: 0.6931\n",
      "Epoch 16/100\n",
      "100/100 [==============================] - 677s 7s/step - loss: 0.0159 - acc: 0.9991 - val_loss: 1.2888 - val_acc: 0.6957\n",
      "Epoch 17/100\n",
      "100/100 [==============================] - 686s 7s/step - loss: 0.0138 - acc: 0.9991 - val_loss: 1.8588 - val_acc: 0.6780\n",
      "Epoch 18/100\n",
      "100/100 [==============================] - 617s 6s/step - loss: 0.0073 - acc: 1.0000 - val_loss: 0.4587 - val_acc: 0.6976\n",
      "Epoch 19/100\n",
      "100/100 [==============================] - 538s 5s/step - loss: 0.0076 - acc: 1.0000 - val_loss: 0.8051 - val_acc: 0.7001\n",
      "Epoch 20/100\n",
      "100/100 [==============================] - 530s 5s/step - loss: 0.0042 - acc: 1.0000 - val_loss: 1.4135 - val_acc: 0.6906\n",
      "Epoch 21/100\n",
      "100/100 [==============================] - 517s 5s/step - loss: 0.0043 - acc: 1.0000 - val_loss: 1.7142 - val_acc: 0.6837\n",
      "Epoch 22/100\n",
      "100/100 [==============================] - 533s 5s/step - loss: 0.0030 - acc: 1.0000 - val_loss: 1.2405 - val_acc: 0.6799\n",
      "Epoch 23/100\n",
      "100/100 [==============================] - 530s 5s/step - loss: 0.0029 - acc: 1.0000 - val_loss: 3.0086 - val_acc: 0.6932\n",
      "Epoch 24/100\n",
      "100/100 [==============================] - 548s 5s/step - loss: 0.0023 - acc: 1.0000 - val_loss: 2.1102 - val_acc: 0.6913\n",
      "Epoch 25/100\n",
      "100/100 [==============================] - 522s 5s/step - loss: 0.0020 - acc: 1.0000 - val_loss: 1.9505 - val_acc: 0.6856\n",
      "Epoch 26/100\n",
      "100/100 [==============================] - 549s 5s/step - loss: 0.0019 - acc: 1.0000 - val_loss: 1.5693 - val_acc: 0.6824\n",
      "Epoch 27/100\n",
      "100/100 [==============================] - 527s 5s/step - loss: 0.0016 - acc: 1.0000 - val_loss: 2.0323 - val_acc: 0.6843\n",
      "Epoch 28/100\n",
      "100/100 [==============================] - 536s 5s/step - loss: 0.0014 - acc: 1.0000 - val_loss: 1.8375 - val_acc: 0.6856\n",
      "Epoch 29/100\n",
      "100/100 [==============================] - 523s 5s/step - loss: 0.0013 - acc: 1.0000 - val_loss: 1.8162 - val_acc: 0.6919\n",
      "Epoch 30/100\n",
      "100/100 [==============================] - 545s 5s/step - loss: 0.0012 - acc: 1.0000 - val_loss: 2.2762 - val_acc: 0.6800\n",
      "Epoch 31/100\n",
      "100/100 [==============================] - 523s 5s/step - loss: 0.0010 - acc: 1.0000 - val_loss: 1.3962 - val_acc: 0.6982\n",
      "Epoch 32/100\n",
      "100/100 [==============================] - 537s 5s/step - loss: 9.9174e-04 - acc: 1.0000 - val_loss: 1.8213 - val_acc: 0.6673\n",
      "Epoch 33/100\n",
      "100/100 [==============================] - 527s 5s/step - loss: 7.9714e-04 - acc: 1.0000 - val_loss: 2.3709 - val_acc: 0.6932\n",
      "Epoch 34/100\n",
      "100/100 [==============================] - 542s 5s/step - loss: 8.2679e-04 - acc: 1.0000 - val_loss: 2.2747 - val_acc: 0.6769\n",
      "Epoch 35/100\n",
      "100/100 [==============================] - 521s 5s/step - loss: 7.1201e-04 - acc: 1.0000 - val_loss: 1.2561 - val_acc: 0.6919\n",
      "Epoch 36/100\n",
      "100/100 [==============================] - 541s 5s/step - loss: 6.7490e-04 - acc: 1.0000 - val_loss: 0.6488 - val_acc: 0.6812\n",
      "Epoch 37/100\n",
      "100/100 [==============================] - 540s 5s/step - loss: 6.3405e-04 - acc: 1.0000 - val_loss: 2.5826 - val_acc: 0.6875\n",
      "Epoch 38/100\n",
      "100/100 [==============================] - 539s 5s/step - loss: 5.7277e-04 - acc: 1.0000 - val_loss: 1.9383 - val_acc: 0.6787\n",
      "Epoch 39/100\n",
      "100/100 [==============================] - 527s 5s/step - loss: 5.2414e-04 - acc: 1.0000 - val_loss: 1.7302 - val_acc: 0.6862\n",
      "Epoch 40/100\n",
      "100/100 [==============================] - 525s 5s/step - loss: 4.6593e-04 - acc: 1.0000 - val_loss: 1.9118 - val_acc: 0.6982\n",
      "Epoch 41/100\n",
      "100/100 [==============================] - 536s 5s/step - loss: 4.4562e-04 - acc: 1.0000 - val_loss: 2.6115 - val_acc: 0.6742\n",
      "Epoch 42/100\n",
      "100/100 [==============================] - 546s 5s/step - loss: 4.1119e-04 - acc: 1.0000 - val_loss: 2.5446 - val_acc: 0.6881\n",
      "Epoch 43/100\n",
      "100/100 [==============================] - 544s 5s/step - loss: 3.9877e-04 - acc: 1.0000 - val_loss: 3.3862 - val_acc: 0.6957\n",
      "Epoch 44/100\n",
      "100/100 [==============================] - 541s 5s/step - loss: 3.5796e-04 - acc: 1.0000 - val_loss: 2.2518 - val_acc: 0.6806\n",
      "Epoch 45/100\n",
      "100/100 [==============================] - 534s 5s/step - loss: 3.3403e-04 - acc: 1.0000 - val_loss: 1.4118 - val_acc: 0.6837\n",
      "Epoch 46/100\n",
      "100/100 [==============================] - 524s 5s/step - loss: 2.8013e-04 - acc: 1.0000 - val_loss: 2.5472 - val_acc: 0.6938\n",
      "Epoch 47/100\n",
      "100/100 [==============================] - 533s 5s/step - loss: 3.0311e-04 - acc: 1.0000 - val_loss: 2.8299 - val_acc: 0.6768\n",
      "Epoch 48/100\n",
      "100/100 [==============================] - 510s 5s/step - loss: 2.5186e-04 - acc: 1.0000 - val_loss: 2.6377 - val_acc: 0.6806\n",
      "Epoch 49/100\n",
      "100/100 [==============================] - 545s 5s/step - loss: 2.5822e-04 - acc: 1.0000 - val_loss: 2.9071 - val_acc: 0.6944\n",
      "Epoch 50/100\n",
      "100/100 [==============================] - 534s 5s/step - loss: 2.3351e-04 - acc: 1.0000 - val_loss: 2.5146 - val_acc: 0.6831\n",
      "Epoch 51/100\n",
      "100/100 [==============================] - 541s 5s/step - loss: 2.2652e-04 - acc: 1.0000 - val_loss: 3.8936 - val_acc: 0.6755\n",
      "Epoch 52/100\n",
      "100/100 [==============================] - 523s 5s/step - loss: 2.0082e-04 - acc: 1.0000 - val_loss: 1.4621 - val_acc: 0.6907\n",
      "Epoch 53/100\n",
      "100/100 [==============================] - 546s 5s/step - loss: 1.7927e-04 - acc: 1.0000 - val_loss: 3.1281 - val_acc: 0.6837\n",
      "Epoch 54/100\n",
      "100/100 [==============================] - 532s 5s/step - loss: 1.6705e-04 - acc: 1.0000 - val_loss: 2.6322 - val_acc: 0.6956\n",
      "Epoch 55/100\n",
      "100/100 [==============================] - 532s 5s/step - loss: 1.7114e-04 - acc: 1.0000 - val_loss: 2.2416 - val_acc: 0.6730\n",
      "Epoch 56/100\n",
      "100/100 [==============================] - 533s 5s/step - loss: 1.4539e-04 - acc: 1.0000 - val_loss: 2.3583 - val_acc: 0.6957\n",
      "Epoch 57/100\n",
      "100/100 [==============================] - 551s 6s/step - loss: 1.4906e-04 - acc: 1.0000 - val_loss: 2.6274 - val_acc: 0.6761\n",
      "Epoch 58/100\n",
      "100/100 [==============================] - 529s 5s/step - loss: 1.3308e-04 - acc: 1.0000 - val_loss: 2.1748 - val_acc: 0.6818\n",
      "Epoch 59/100\n",
      "100/100 [==============================] - 529s 5s/step - loss: 1.2578e-04 - acc: 1.0000 - val_loss: 1.9911 - val_acc: 0.6900\n",
      "Epoch 60/100\n",
      "100/100 [==============================] - 534s 5s/step - loss: 1.1711e-04 - acc: 1.0000 - val_loss: 2.0857 - val_acc: 0.6799\n"
     ]
    },
    {
     "name": "stdout",
     "output_type": "stream",
     "text": [
      "Epoch 61/100\n",
      "100/100 [==============================] - 534s 5s/step - loss: 1.0533e-04 - acc: 1.0000 - val_loss: 2.8373 - val_acc: 0.6944\n",
      "Epoch 62/100\n",
      "100/100 [==============================] - 526s 5s/step - loss: 1.0582e-04 - acc: 1.0000 - val_loss: 2.3140 - val_acc: 0.6818\n",
      "Epoch 63/100\n",
      "100/100 [==============================] - 534s 5s/step - loss: 9.2109e-05 - acc: 1.0000 - val_loss: 4.7564 - val_acc: 0.6806\n",
      "Epoch 64/100\n",
      "100/100 [==============================] - 541s 5s/step - loss: 9.4191e-05 - acc: 1.0000 - val_loss: 2.5068 - val_acc: 0.6712\n",
      "Epoch 65/100\n",
      "100/100 [==============================] - 539s 5s/step - loss: 8.7413e-05 - acc: 1.0000 - val_loss: 3.3919 - val_acc: 0.6944\n",
      "Epoch 66/100\n",
      "100/100 [==============================] - 526s 5s/step - loss: 7.3310e-05 - acc: 1.0000 - val_loss: 3.5365 - val_acc: 0.6976\n",
      "Epoch 67/100\n",
      "100/100 [==============================] - 547s 5s/step - loss: 7.3242e-05 - acc: 1.0000 - val_loss: 3.9914 - val_acc: 0.6736\n",
      "Epoch 68/100\n",
      "100/100 [==============================] - 526s 5s/step - loss: 6.9520e-05 - acc: 1.0000 - val_loss: 3.3612 - val_acc: 0.6913\n",
      "Epoch 69/100\n",
      "100/100 [==============================] - 532s 5s/step - loss: 6.1446e-05 - acc: 1.0000 - val_loss: 2.6229 - val_acc: 0.6799\n",
      "Epoch 70/100\n",
      "100/100 [==============================] - 533s 5s/step - loss: 6.1002e-05 - acc: 1.0000 - val_loss: 1.3519 - val_acc: 0.6970\n",
      "Epoch 71/100\n",
      "100/100 [==============================] - 546s 5s/step - loss: 5.9266e-05 - acc: 1.0000 - val_loss: 0.5378 - val_acc: 0.6768\n",
      "Epoch 72/100\n",
      "100/100 [==============================] - 531s 5s/step - loss: 5.1665e-05 - acc: 1.0000 - val_loss: 2.5635 - val_acc: 0.6843\n",
      "Epoch 73/100\n",
      "100/100 [==============================] - 550s 5s/step - loss: 5.0280e-05 - acc: 1.0000 - val_loss: 2.7731 - val_acc: 0.6806\n",
      "Epoch 74/100\n",
      "100/100 [==============================] - 529s 5s/step - loss: 4.5930e-05 - acc: 1.0000 - val_loss: 1.6713 - val_acc: 0.6768\n",
      "Epoch 75/100\n",
      "100/100 [==============================] - 548s 5s/step - loss: 4.4920e-05 - acc: 1.0000 - val_loss: 2.7409 - val_acc: 0.6768\n",
      "Epoch 76/100\n",
      "100/100 [==============================] - 527s 5s/step - loss: 3.9813e-05 - acc: 1.0000 - val_loss: 3.9605 - val_acc: 0.7008\n",
      "Epoch 77/100\n",
      "100/100 [==============================] - 562s 6s/step - loss: 4.0041e-05 - acc: 1.0000 - val_loss: 2.1844 - val_acc: 0.6843\n",
      "Epoch 78/100\n",
      "100/100 [==============================] - 548s 5s/step - loss: 3.5652e-05 - acc: 1.0000 - val_loss: 3.8395 - val_acc: 0.6850\n",
      "Epoch 79/100\n",
      "100/100 [==============================] - 564s 6s/step - loss: 3.5896e-05 - acc: 1.0000 - val_loss: 0.6881 - val_acc: 0.6881\n",
      "Epoch 80/100\n",
      "100/100 [==============================] - 525s 5s/step - loss: 3.2213e-05 - acc: 1.0000 - val_loss: 2.8854 - val_acc: 0.6818\n",
      "Epoch 81/100\n",
      "100/100 [==============================] - 550s 6s/step - loss: 3.0094e-05 - acc: 1.0000 - val_loss: 1.9577 - val_acc: 0.6900\n",
      "Epoch 82/100\n",
      "100/100 [==============================] - 530s 5s/step - loss: 2.8164e-05 - acc: 1.0000 - val_loss: 1.1629 - val_acc: 0.6837\n",
      "Epoch 83/100\n",
      "100/100 [==============================] - 525s 5s/step - loss: 2.7992e-05 - acc: 1.0000 - val_loss: 1.3198 - val_acc: 0.6881\n",
      "Epoch 84/100\n",
      "100/100 [==============================] - 528s 5s/step - loss: 2.4870e-05 - acc: 1.0000 - val_loss: 1.5356 - val_acc: 0.6944\n",
      "Epoch 85/100\n",
      "100/100 [==============================] - 528s 5s/step - loss: 2.4142e-05 - acc: 1.0000 - val_loss: 1.7867 - val_acc: 0.6749\n",
      "Epoch 86/100\n",
      "100/100 [==============================] - 528s 5s/step - loss: 2.3616e-05 - acc: 1.0000 - val_loss: 2.1484 - val_acc: 0.6862\n",
      "Epoch 87/100\n",
      "100/100 [==============================] - 535s 5s/step - loss: 2.0479e-05 - acc: 1.0000 - val_loss: 3.4471 - val_acc: 0.6806\n",
      "Epoch 88/100\n",
      "100/100 [==============================] - 534s 5s/step - loss: 2.0189e-05 - acc: 1.0000 - val_loss: 4.5919 - val_acc: 0.6800\n",
      "Epoch 89/100\n",
      "100/100 [==============================] - 532s 5s/step - loss: 1.8871e-05 - acc: 1.0000 - val_loss: 1.6559 - val_acc: 0.6881\n",
      "Epoch 90/100\n",
      "100/100 [==============================] - 542s 5s/step - loss: 1.7859e-05 - acc: 1.0000 - val_loss: 3.8376 - val_acc: 0.6957\n",
      "Epoch 91/100\n",
      "100/100 [==============================] - 518s 5s/step - loss: 1.6186e-05 - acc: 1.0000 - val_loss: 3.0755 - val_acc: 0.6761\n",
      "Epoch 92/100\n",
      "100/100 [==============================] - 524s 5s/step - loss: 1.6059e-05 - acc: 1.0000 - val_loss: 2.0699 - val_acc: 0.6881\n",
      "Epoch 93/100\n",
      "100/100 [==============================] - 524s 5s/step - loss: 1.4578e-05 - acc: 1.0000 - val_loss: 1.5684 - val_acc: 0.6938\n",
      "Epoch 94/100\n",
      "100/100 [==============================] - 514s 5s/step - loss: 1.4377e-05 - acc: 1.0000 - val_loss: 2.9023 - val_acc: 0.6755\n",
      "Epoch 95/100\n",
      "100/100 [==============================] - 527s 5s/step - loss: 1.3040e-05 - acc: 1.0000 - val_loss: 2.4738 - val_acc: 0.7014\n",
      "Epoch 96/100\n",
      "100/100 [==============================] - 620s 6s/step - loss: 1.2971e-05 - acc: 1.0000 - val_loss: 3.5104 - val_acc: 0.6742\n",
      "Epoch 97/100\n",
      "100/100 [==============================] - 3584s 36s/step - loss: 1.1381e-05 - acc: 1.0000 - val_loss: 4.3272 - val_acc: 0.6812\n",
      "Epoch 98/100\n",
      "100/100 [==============================] - 649s 6s/step - loss: 1.1031e-05 - acc: 1.0000 - val_loss: 3.4945 - val_acc: 0.6850\n",
      "Epoch 99/100\n",
      "100/100 [==============================] - 683s 7s/step - loss: 1.0596e-05 - acc: 1.0000 - val_loss: 1.9470 - val_acc: 0.6850\n",
      "Epoch 100/100\n",
      "100/100 [==============================] - 694s 7s/step - loss: 9.5386e-06 - acc: 1.0000 - val_loss: 3.1733 - val_acc: 0.6869\n"
     ]
    }
   ],
   "source": [
    "# Compile model\n",
    "model.compile(optimizer=optimizers.Adam(),\n",
    "              loss='binary_crossentropy',\n",
    "              metrics=['acc'])\n",
    "\n",
    "# Train model using generator \n",
    "history = model.fit_generator(\n",
    "      train_generator,\n",
    "      steps_per_epoch=100,\n",
    "      epochs=100,\n",
    "      validation_data=validation_generator,\n",
    "      validation_steps=50)"
   ]
  },
  {
   "cell_type": "code",
   "execution_count": 76,
   "metadata": {},
   "outputs": [
    {
     "data": {
      "image/png": "[encoded data removed]",
      "text/plain": [
       "<Figure size 432x288 with 1 Axes>"
      ]
     },
     "metadata": {
      "needs_background": "light"
     },
     "output_type": "display_data"
    },
    {
     "data": {
      "image/png": "[encoded data removed]",
      "text/plain": [
       "<Figure size 432x288 with 1 Axes>"
      ]
     },
     "metadata": {
      "needs_background": "light"
     },
     "output_type": "display_data"
    }
   ],
   "source": [
    "acc = history.history['acc']\n",
    "val_acc = history.history['val_acc']\n",
    "loss = history.history['loss']\n",
    "val_loss = history.history['val_loss']\n",
    "\n",
    "epochs = range(len(acc))\n",
    "import matplotlib.pyplot as plt\n",
    "plt.plot(epochs, acc, 'bo', label='Training acc')\n",
    "plt.plot(epochs, val_acc, 'b', label='Validation acc')\n",
    "plt.title('Training and validation accuracy')\n",
    "plt.legend()\n",
    "\n",
    "plt.figure()\n",
    "\n",
    "plt.plot(epochs, loss, 'bo', label='Training loss')\n",
    "plt.plot(epochs, val_loss, 'b', label='Validation loss')\n",
    "plt.title('Training and validation loss')\n",
    "plt.legend()\n",
    "\n",
    "plt.show()"
   ]
  },
  {
   "cell_type": "code",
   "execution_count": 77,
   "metadata": {},
   "outputs": [
    {
     "name": "stdout",
     "output_type": "stream",
     "text": [
      "Found 2000 images belonging to 2 classes.\n",
      "test acc: 0.703000009059906\n"
     ]
    }
   ],
   "source": [
    "test_generator = test_datagen.flow_from_directory(\n",
    "        test_dir,\n",
    "        target_size=(150, 150),\n",
    "        batch_size=20,\n",
    "        class_mode='binary')\n",
    "\n",
    "test_loss, test_acc = model.evaluate_generator(test_generator, steps=50)\n",
    "print('test acc:', test_acc)"
   ]
  },
  {
   "cell_type": "code",
   "execution_count": null,
   "metadata": {},
   "outputs": [],
   "source": []
  }
 ],
 "metadata": {
  "kernelspec": {
   "display_name": "Python 3",
   "language": "python",
   "name": "python3"
  },
  "language_info": {
   "codemirror_mode": {
    "name": "ipython",
    "version": 3
   },
   "file_extension": ".py",
   "mimetype": "text/x-python",
   "name": "python",
   "nbconvert_exporter": "python",
   "pygments_lexer": "ipython3",
   "version": "3.7.1"
  }
 },
 "nbformat": 4,
 "nbformat_minor": 2
}
