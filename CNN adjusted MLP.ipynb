{
 "cells": [
  {
   "cell_type": "code",
   "execution_count": 1,
   "metadata": {},
   "outputs": [
    {
     "name": "stderr",
     "output_type": "stream",
     "text": [
      "Using TensorFlow backend.\n",
      "/Users/shelly/anaconda3/lib/python3.7/site-packages/tensorflow/python/framework/dtypes.py:526: FutureWarning: Passing (type, 1) or '1type' as a synonym of type is deprecated; in a future version of numpy, it will be understood as (type, (1,)) / '(1,)type'.\n",
      "  _np_qint8 = np.dtype([(\"qint8\", np.int8, 1)])\n",
      "/Users/shelly/anaconda3/lib/python3.7/site-packages/tensorflow/python/framework/dtypes.py:527: FutureWarning: Passing (type, 1) or '1type' as a synonym of type is deprecated; in a future version of numpy, it will be understood as (type, (1,)) / '(1,)type'.\n",
      "  _np_quint8 = np.dtype([(\"quint8\", np.uint8, 1)])\n",
      "/Users/shelly/anaconda3/lib/python3.7/site-packages/tensorflow/python/framework/dtypes.py:528: FutureWarning: Passing (type, 1) or '1type' as a synonym of type is deprecated; in a future version of numpy, it will be understood as (type, (1,)) / '(1,)type'.\n",
      "  _np_qint16 = np.dtype([(\"qint16\", np.int16, 1)])\n",
      "/Users/shelly/anaconda3/lib/python3.7/site-packages/tensorflow/python/framework/dtypes.py:529: FutureWarning: Passing (type, 1) or '1type' as a synonym of type is deprecated; in a future version of numpy, it will be understood as (type, (1,)) / '(1,)type'.\n",
      "  _np_quint16 = np.dtype([(\"quint16\", np.uint16, 1)])\n",
      "/Users/shelly/anaconda3/lib/python3.7/site-packages/tensorflow/python/framework/dtypes.py:530: FutureWarning: Passing (type, 1) or '1type' as a synonym of type is deprecated; in a future version of numpy, it will be understood as (type, (1,)) / '(1,)type'.\n",
      "  _np_qint32 = np.dtype([(\"qint32\", np.int32, 1)])\n",
      "/Users/shelly/anaconda3/lib/python3.7/site-packages/tensorflow/python/framework/dtypes.py:535: FutureWarning: Passing (type, 1) or '1type' as a synonym of type is deprecated; in a future version of numpy, it will be understood as (type, (1,)) / '(1,)type'.\n",
      "  np_resource = np.dtype([(\"resource\", np.ubyte, 1)])\n"
     ]
    }
   ],
   "source": [
    "import keras\n",
    "import os, shutil, os.path\n",
    "import pandas as pd\n",
    "import numpy as np\n",
    "import re\n",
    "from sklearn import preprocessing\n",
    "from tensorflow.keras.preprocessing.image import ImageDataGenerator\n",
    "from keras import layers\n",
    "from keras import models\n",
    "import matplotlib.pyplot as plt\n",
    "from sklearn.metrics import accuracy_score\n",
    "from sklearn.metrics import classification_report"
   ]
  },
  {
   "cell_type": "code",
   "execution_count": 2,
   "metadata": {},
   "outputs": [
    {
     "data": {
      "text/plain": [
       "'2.2.4'"
      ]
     },
     "execution_count": 2,
     "metadata": {},
     "output_type": "execute_result"
    }
   ],
   "source": [
    "keras.__version__"
   ]
  },
  {
   "cell_type": "code",
   "execution_count": 3,
   "metadata": {},
   "outputs": [
    {
     "data": {
      "text/html": [
       "<div>\n",
       "<style scoped>\n",
       "    .dataframe tbody tr th:only-of-type {\n",
       "        vertical-align: middle;\n",
       "    }\n",
       "\n",
       "    .dataframe tbody tr th {\n",
       "        vertical-align: top;\n",
       "    }\n",
       "\n",
       "    .dataframe thead th {\n",
       "        text-align: right;\n",
       "    }\n",
       "</style>\n",
       "<table border=\"1\" class=\"dataframe\">\n",
       "  <thead>\n",
       "    <tr style=\"text-align: right;\">\n",
       "      <th></th>\n",
       "      <th>filename</th>\n",
       "      <th>label</th>\n",
       "      <th>biglabel</th>\n",
       "    </tr>\n",
       "    <tr>\n",
       "      <th>pub_priv</th>\n",
       "      <th></th>\n",
       "      <th></th>\n",
       "      <th></th>\n",
       "    </tr>\n",
       "  </thead>\n",
       "  <tbody>\n",
       "    <tr>\n",
       "      <td>private</td>\n",
       "      <td>4406</td>\n",
       "      <td>4406</td>\n",
       "      <td>4406</td>\n",
       "    </tr>\n",
       "    <tr>\n",
       "      <td>public</td>\n",
       "      <td>6209</td>\n",
       "      <td>6209</td>\n",
       "      <td>6209</td>\n",
       "    </tr>\n",
       "  </tbody>\n",
       "</table>\n",
       "</div>"
      ],
      "text/plain": [
       "          filename  label  biglabel\n",
       "pub_priv                           \n",
       "private       4406   4406      4406\n",
       "public        6209   6209      6209"
      ]
     },
     "execution_count": 3,
     "metadata": {},
     "output_type": "execute_result"
    }
   ],
   "source": [
    "df1 = pd.read_csv('../all_files_biglabel_nov19.csv')\n",
    "df2 = pd.read_csv('/Users/shelly/Google Drive/CPE695/pub_priv.csv')\n",
    "df3 = pd.merge(df1, df2, on='label', how='inner')\n",
    "df3.dropna(subset=['pub_priv'], inplace=True)\n",
    "\n",
    "df3.groupby('pub_priv').count()"
   ]
  },
  {
   "cell_type": "code",
   "execution_count": 4,
   "metadata": {},
   "outputs": [],
   "source": [
    "df3 = df3.drop(df3.index[df3.filename == 'trainstation_30.jpg'])\n",
    "df3 = df3.drop(df3.index[df3.filename == 'bookstore_56.jpg'])\n",
    "df3 = df3.drop(df3.index[df3.filename == 'dining_room_49.jpg'])\n",
    "df3 = df3.drop(df3.index[df3.filename == 'laboratorywet_25.jpg'])\n",
    "df3 = df3.drop(df3.index[df3.filename == 'mall_39.jpg'])\n",
    "df3 = df3.drop(df3.index[df3.filename == 'shoeshop_23.jpg'])"
   ]
  },
  {
   "cell_type": "code",
   "execution_count": 5,
   "metadata": {},
   "outputs": [
    {
     "data": {
      "text/plain": [
       "45"
      ]
     },
     "execution_count": 5,
     "metadata": {},
     "output_type": "execute_result"
    }
   ],
   "source": [
    "len(df3.groupby('label').count().index.tolist())"
   ]
  },
  {
   "cell_type": "code",
   "execution_count": 6,
   "metadata": {},
   "outputs": [],
   "source": [
    "train = df3[:8000]\n",
    "test = df3[8000:10000]"
   ]
  },
  {
   "cell_type": "code",
   "execution_count": 7,
   "metadata": {},
   "outputs": [],
   "source": [
    "datagen=ImageDataGenerator(rescale=1./255.,validation_split=0.25)\n",
    "test_datagen=ImageDataGenerator(rescale=1./255.)"
   ]
  },
  {
   "cell_type": "code",
   "execution_count": 8,
   "metadata": {},
   "outputs": [
    {
     "name": "stdout",
     "output_type": "stream",
     "text": [
      "Found 6000 validated image filenames belonging to 2 classes.\n",
      "Found 2000 validated image filenames belonging to 2 classes.\n"
     ]
    }
   ],
   "source": [
    "DIR = \"../Images_all\"\n",
    "train_generator=datagen.flow_from_dataframe(dataframe=train,\n",
    "                                            directory=DIR,\n",
    "                                            x_col=\"filename\",\n",
    "                                            y_col=\"pub_priv\",\n",
    "                                            subset=\"training\",\n",
    "                                            batch_size=32,\n",
    "                                            seed=42,\n",
    "                                            shuffle=True,\n",
    "                                            class_mode=\"binary\",\n",
    "                                            target_size=(150,150))\n",
    "valid_generator=datagen.flow_from_dataframe(dataframe=train,\n",
    "                                            directory=DIR,\n",
    "                                            x_col=\"filename\",\n",
    "                                            y_col=\"pub_priv\",\n",
    "                                            subset=\"validation\",\n",
    "                                            batch_size=32,\n",
    "                                            seed=42,\n",
    "                                            shuffle=True,\n",
    "                                            class_mode=\"binary\",\n",
    "                                            target_size=(150,150))\n",
    "# test_generator=test_datagen.flow_from_dataframe(dataframe=test,\n",
    "#                                                 directory=DIR,\n",
    "#                                                 x_col=\"filename\",\n",
    "#                                                 y_col=None,\n",
    "#                                                 batch_size=32,\n",
    "#                                                 seed=42,\n",
    "#                                                 shuffle=False,\n",
    "#                                                 class_mode=None,\n",
    "#                                                 target_size=(150,150))"
   ]
  },
  {
   "cell_type": "markdown",
   "metadata": {},
   "source": [
    "# First Model (Controlled the effect of MLP)"
   ]
  },
  {
   "cell_type": "code",
   "execution_count": 9,
   "metadata": {},
   "outputs": [
    {
     "name": "stdout",
     "output_type": "stream",
     "text": [
      "WARNING:tensorflow:From /Users/shelly/anaconda3/lib/python3.7/site-packages/tensorflow/python/framework/op_def_library.py:263: colocate_with (from tensorflow.python.framework.ops) is deprecated and will be removed in a future version.\n",
      "Instructions for updating:\n",
      "Colocations handled automatically by placer.\n"
     ]
    }
   ],
   "source": [
    "model = models.Sequential()\n",
    "model.add(layers.Conv2D(32, (3, 3), activation='relu',\n",
    "                        input_shape=(150, 150, 3)))\n",
    "model.add(layers.Conv2D(32, (3, 3), activation='relu'))\n",
    "model.add(layers.Conv2D(32, (3, 3), activation='relu'))\n",
    "model.add(layers.MaxPooling2D((4, 4)))\n",
    "model.add(layers.Flatten())\n",
    "model.add(layers.Dense(512, activation='relu'))\n",
    "model.add(layers.Dense(1, activation='sigmoid'))\n",
    "model.compile(loss='binary_crossentropy',optimizer='adam',metrics=['accuracy'])"
   ]
  },
  {
   "cell_type": "code",
   "execution_count": 10,
   "metadata": {},
   "outputs": [
    {
     "name": "stdout",
     "output_type": "stream",
     "text": [
      "_________________________________________________________________\n",
      "Layer (type)                 Output Shape              Param #   \n",
      "=================================================================\n",
      "conv2d_1 (Conv2D)            (None, 148, 148, 32)      896       \n",
      "_________________________________________________________________\n",
      "conv2d_2 (Conv2D)            (None, 146, 146, 32)      9248      \n",
      "_________________________________________________________________\n",
      "conv2d_3 (Conv2D)            (None, 144, 144, 32)      9248      \n",
      "_________________________________________________________________\n",
      "max_pooling2d_1 (MaxPooling2 (None, 36, 36, 32)        0         \n",
      "_________________________________________________________________\n",
      "flatten_1 (Flatten)          (None, 41472)             0         \n",
      "_________________________________________________________________\n",
      "dense_1 (Dense)              (None, 512)               21234176  \n",
      "_________________________________________________________________\n",
      "dense_2 (Dense)              (None, 1)                 513       \n",
      "=================================================================\n",
      "Total params: 21,254,081\n",
      "Trainable params: 21,254,081\n",
      "Non-trainable params: 0\n",
      "_________________________________________________________________\n"
     ]
    }
   ],
   "source": [
    "model.summary()"
   ]
  },
  {
   "cell_type": "code",
   "execution_count": 11,
   "metadata": {},
   "outputs": [
    {
     "name": "stdout",
     "output_type": "stream",
     "text": [
      "WARNING:tensorflow:From /Users/shelly/anaconda3/lib/python3.7/site-packages/tensorflow/python/ops/math_ops.py:3066: to_int32 (from tensorflow.python.ops.math_ops) is deprecated and will be removed in a future version.\n",
      "Instructions for updating:\n",
      "Use tf.cast instead.\n",
      "Epoch 1/30\n",
      "100/100 [==============================] - 113s 1s/step - loss: 6.1100 - acc: 0.6106 - val_loss: 6.4666 - val_acc: 0.5944\n",
      "Epoch 2/30\n",
      "100/100 [==============================] - 120s 1s/step - loss: 6.3820 - acc: 0.5997 - val_loss: 6.3709 - val_acc: 0.6004\n",
      "Epoch 3/30\n",
      "100/100 [==============================] - 144s 1s/step - loss: 6.3421 - acc: 0.6022 - val_loss: 6.7332 - val_acc: 0.5777\n",
      "Epoch 4/30\n",
      "100/100 [==============================] - 150s 1s/step - loss: 6.1329 - acc: 0.6153 - val_loss: 6.4212 - val_acc: 0.5972\n",
      "Epoch 5/30\n",
      "100/100 [==============================] - 158s 2s/step - loss: 6.2225 - acc: 0.6097 - val_loss: 6.4367 - val_acc: 0.5962\n",
      "Epoch 6/30\n",
      "100/100 [==============================] - 167s 2s/step - loss: 6.3022 - acc: 0.6047 - val_loss: 6.5118 - val_acc: 0.5915\n",
      "Epoch 7/30\n",
      "100/100 [==============================] - 163s 2s/step - loss: 6.3520 - acc: 0.6016 - val_loss: 6.6527 - val_acc: 0.5827\n",
      "Epoch 8/30\n",
      "100/100 [==============================] - 165s 2s/step - loss: 6.2473 - acc: 0.6081 - val_loss: 6.2703 - val_acc: 0.6067\n",
      "Epoch 9/30\n",
      "100/100 [==============================] - 168s 2s/step - loss: 6.3720 - acc: 0.6003 - val_loss: 6.6527 - val_acc: 0.5827\n",
      "Epoch 10/30\n",
      "100/100 [==============================] - 160s 2s/step - loss: 6.2673 - acc: 0.6069 - val_loss: 6.3371 - val_acc: 0.6025\n",
      "Epoch 11/30\n",
      "100/100 [==============================] - 151s 2s/step - loss: 6.1428 - acc: 0.6147 - val_loss: 6.6326 - val_acc: 0.5840\n",
      "Epoch 12/30\n",
      "100/100 [==============================] - 156s 2s/step - loss: 6.4069 - acc: 0.5981 - val_loss: 6.3609 - val_acc: 0.6010\n",
      "Epoch 13/30\n",
      "100/100 [==============================] - 154s 2s/step - loss: 6.2424 - acc: 0.6084 - val_loss: 6.5923 - val_acc: 0.5865\n",
      "Epoch 14/30\n",
      "100/100 [==============================] - 160s 2s/step - loss: 6.3023 - acc: 0.6047 - val_loss: 6.4313 - val_acc: 0.5966\n",
      "Epoch 15/30\n",
      "100/100 [==============================] - 169s 2s/step - loss: 6.2175 - acc: 0.6100 - val_loss: 6.5364 - val_acc: 0.5900\n",
      "Epoch 16/30\n",
      "100/100 [==============================] - 166s 2s/step - loss: 6.3072 - acc: 0.6044 - val_loss: 6.3307 - val_acc: 0.6029\n",
      "Epoch 17/30\n",
      "100/100 [==============================] - 164s 2s/step - loss: 6.2673 - acc: 0.6069 - val_loss: 6.7433 - val_acc: 0.5770\n",
      "Epoch 18/30\n",
      "100/100 [==============================] - 163s 2s/step - loss: 6.3172 - acc: 0.6038 - val_loss: 6.2803 - val_acc: 0.6061\n",
      "Epoch 19/30\n",
      "100/100 [==============================] - 165s 2s/step - loss: 6.2276 - acc: 0.6094 - val_loss: 6.5118 - val_acc: 0.5915\n",
      "Epoch 20/30\n",
      "100/100 [==============================] - 164s 2s/step - loss: 6.2325 - acc: 0.6091 - val_loss: 6.4467 - val_acc: 0.5956\n",
      "Epoch 21/30\n",
      "100/100 [==============================] - 179s 2s/step - loss: 6.3323 - acc: 0.6028 - val_loss: 6.6628 - val_acc: 0.5821\n",
      "Epoch 22/30\n",
      "100/100 [==============================] - 179s 2s/step - loss: 6.1428 - acc: 0.6147 - val_loss: 6.1797 - val_acc: 0.6124\n",
      "Epoch 23/30\n",
      "100/100 [==============================] - 170s 2s/step - loss: 6.3570 - acc: 0.6013 - val_loss: 6.5722 - val_acc: 0.5878\n",
      "Epoch 24/30\n",
      "100/100 [==============================] - 170s 2s/step - loss: 6.3122 - acc: 0.6041 - val_loss: 6.6527 - val_acc: 0.5827\n",
      "Epoch 25/30\n",
      "100/100 [==============================] - 163s 2s/step - loss: 6.0977 - acc: 0.6175 - val_loss: 6.4367 - val_acc: 0.5962\n",
      "Epoch 26/30\n",
      "100/100 [==============================] - 175s 2s/step - loss: 6.5164 - acc: 0.5913 - val_loss: 6.4917 - val_acc: 0.5928\n",
      "Epoch 27/30\n",
      "100/100 [==============================] - 171s 2s/step - loss: 6.3122 - acc: 0.6041 - val_loss: 6.4514 - val_acc: 0.5953\n",
      "Epoch 28/30\n",
      "100/100 [==============================] - 167s 2s/step - loss: 6.1229 - acc: 0.6159 - val_loss: 6.5018 - val_acc: 0.5922\n",
      "Epoch 29/30\n",
      "100/100 [==============================] - 167s 2s/step - loss: 6.3221 - acc: 0.6034 - val_loss: 6.5018 - val_acc: 0.5922\n",
      "Epoch 30/30\n",
      "100/100 [==============================] - 179s 2s/step - loss: 6.2923 - acc: 0.6053 - val_loss: 6.5762 - val_acc: 0.5875\n",
      "2019-12-11 01:40:55.432722\n",
      "1:20:42.354956\n"
     ]
    }
   ],
   "source": [
    "import datetime\n",
    "start = (datetime.datetime.now())\n",
    "history = model.fit_generator(\n",
    "      train_generator,\n",
    "      steps_per_epoch=100,\n",
    "      epochs=30,\n",
    "      validation_data=valid_generator,\n",
    "      validation_steps=50)\n",
    "print(datetime.datetime.now())\n",
    "print(datetime.datetime.now() - start)"
   ]
  },
  {
   "cell_type": "code",
   "execution_count": 12,
   "metadata": {},
   "outputs": [],
   "source": [
    "model.save('pub_priv_first_1hid.h5')"
   ]
  },
  {
   "cell_type": "code",
   "execution_count": 13,
   "metadata": {},
   "outputs": [],
   "source": [
    "def plot_train_val_acc(history):\n",
    "    acc = history.history['acc']\n",
    "    val_acc = history.history['val_acc']\n",
    "    loss = history.history['loss']\n",
    "    val_loss = history.history['val_loss']\n",
    "\n",
    "    epochs = range(len(acc))\n",
    "    import matplotlib.pyplot as plt\n",
    "    plt.plot(epochs, acc, 'b', label='Training acc')\n",
    "    plt.plot(epochs, val_acc, 'r', label='Validation acc')\n",
    "    plt.title('Training and validation accuracy')\n",
    "    plt.legend()\n",
    "\n",
    "    plt.figure()\n",
    "\n",
    "    plt.plot(epochs, loss, 'b', label='Training loss')\n",
    "    plt.plot(epochs, val_loss, 'r', label='Validation loss')\n",
    "    plt.title('Training and validation loss')\n",
    "    plt.legend()\n",
    "    plt.show()"
   ]
  },
  {
   "cell_type": "code",
   "execution_count": 14,
   "metadata": {},
   "outputs": [
    {
     "data": {
      "image/png": "[encoded data removed]",
      "text/plain": [
       "<Figure size 432x288 with 1 Axes>"
      ]
     },
     "metadata": {
      "needs_background": "light"
     },
     "output_type": "display_data"
    },
    {
     "data": {
      "image/png": "[encoded data removed]",
      "text/plain": [
       "<Figure size 432x288 with 1 Axes>"
      ]
     },
     "metadata": {
      "needs_background": "light"
     },
     "output_type": "display_data"
    }
   ],
   "source": [
    "plot_train_val_acc(history)"
   ]
  },
  {
   "cell_type": "code",
   "execution_count": 15,
   "metadata": {},
   "outputs": [
    {
     "name": "stdout",
     "output_type": "stream",
     "text": [
      "Found 2000 validated image filenames belonging to 2 classes.\n"
     ]
    }
   ],
   "source": [
    "test_datagen = ImageDataGenerator(rescale=1./255)\n",
    "test_generator=test_datagen.flow_from_dataframe(dataframe=test,\n",
    "                                                directory=DIR,\n",
    "                                                x_col=\"filename\",\n",
    "                                                y_col=\"pub_priv\",\n",
    "                                                shuffle=False,\n",
    "                                                batch_size=1,\n",
    "                                                class_mode='binary',\n",
    "                                                target_size=(150,150))\n",
    "\n",
    "predict = model.predict_generator(test_generator, steps=len(test))\n",
    "test_labels = test_generator.classes"
   ]
  },
  {
   "cell_type": "code",
   "execution_count": 35,
   "metadata": {},
   "outputs": [
    {
     "name": "stdout",
     "output_type": "stream",
     "text": [
      "The accruacy score is 0.597500\n",
      "              precision    recall  f1-score   support\n",
      "\n",
      "           0       0.61      0.51      0.56       989\n",
      "           1       0.59      0.68      0.63      1011\n",
      "\n",
      "    accuracy                           0.60      2000\n",
      "   macro avg       0.60      0.60      0.59      2000\n",
      "weighted avg       0.60      0.60      0.59      2000\n",
      "\n"
     ]
    }
   ],
   "source": [
    "score = accuracy_score(test_labels, predict.round())\n",
    "print(\"The accruacy score is %f\" % score)\n",
    "print(classification_report(test_labels, predict.round()))"
   ]
  },
  {
   "cell_type": "markdown",
   "metadata": {},
   "source": [
    "# First Model Adjusted MLP"
   ]
  },
  {
   "cell_type": "code",
   "execution_count": 16,
   "metadata": {},
   "outputs": [],
   "source": [
    "model1 = models.Sequential()\n",
    "model1.add(layers.Conv2D(32, (3, 3), activation='relu',\n",
    "                        input_shape=(150, 150, 3)))\n",
    "model1.add(layers.Conv2D(32, (3, 3), activation='relu'))\n",
    "model1.add(layers.Conv2D(32, (3, 3), activation='relu'))\n",
    "model1.add(layers.MaxPooling2D((4, 4)))\n",
    "model1.add(layers.Flatten())\n",
    "model1.add(layers.Dense(256, activation='relu'))\n",
    "model1.add(layers.Dense(128, activation='relu'))\n",
    "model1.add(layers.Dropout(0.5))\n",
    "model1.add(layers.Dense(1, activation='sigmoid'))\n",
    "\n",
    "\n",
    "model1.compile(loss='binary_crossentropy',\n",
    "              optimizer='adam',\n",
    "              metrics=['acc'])"
   ]
  },
  {
   "cell_type": "code",
   "execution_count": 17,
   "metadata": {},
   "outputs": [
    {
     "name": "stdout",
     "output_type": "stream",
     "text": [
      "_________________________________________________________________\n",
      "Layer (type)                 Output Shape              Param #   \n",
      "=================================================================\n",
      "conv2d_7 (Conv2D)            (None, 148, 148, 32)      896       \n",
      "_________________________________________________________________\n",
      "conv2d_8 (Conv2D)            (None, 146, 146, 32)      9248      \n",
      "_________________________________________________________________\n",
      "conv2d_9 (Conv2D)            (None, 144, 144, 32)      9248      \n",
      "_________________________________________________________________\n",
      "max_pooling2d_3 (MaxPooling2 (None, 36, 36, 32)        0         \n",
      "_________________________________________________________________\n",
      "flatten_3 (Flatten)          (None, 41472)             0         \n",
      "_________________________________________________________________\n",
      "dense_6 (Dense)              (None, 256)               10617088  \n",
      "_________________________________________________________________\n",
      "dense_7 (Dense)              (None, 128)               32896     \n",
      "_________________________________________________________________\n",
      "dropout_2 (Dropout)          (None, 128)               0         \n",
      "_________________________________________________________________\n",
      "dense_8 (Dense)              (None, 1)                 129       \n",
      "=================================================================\n",
      "Total params: 10,669,505\n",
      "Trainable params: 10,669,505\n",
      "Non-trainable params: 0\n",
      "_________________________________________________________________\n"
     ]
    }
   ],
   "source": [
    "model1.summary()"
   ]
  },
  {
   "cell_type": "code",
   "execution_count": 18,
   "metadata": {},
   "outputs": [
    {
     "name": "stdout",
     "output_type": "stream",
     "text": [
      "Epoch 1/30\n",
      "100/100 [==============================] - 112s 1s/step - loss: 0.6662 - acc: 0.6038 - val_loss: 0.6174 - val_acc: 0.6345\n",
      "Epoch 2/30\n",
      "100/100 [==============================] - 105s 1s/step - loss: 0.6021 - acc: 0.6453 - val_loss: 0.6448 - val_acc: 0.6313\n",
      "Epoch 3/30\n",
      "100/100 [==============================] - 104s 1s/step - loss: 0.5821 - acc: 0.6819 - val_loss: 0.6031 - val_acc: 0.6641\n",
      "Epoch 4/30\n",
      "100/100 [==============================] - 105s 1s/step - loss: 0.5656 - acc: 0.6969 - val_loss: 0.5729 - val_acc: 0.7121\n",
      "Epoch 5/30\n",
      "100/100 [==============================] - 104s 1s/step - loss: 0.5194 - acc: 0.7309 - val_loss: 0.7292 - val_acc: 0.6637\n",
      "Epoch 6/30\n",
      "100/100 [==============================] - 104s 1s/step - loss: 0.4739 - acc: 0.7672 - val_loss: 0.7352 - val_acc: 0.6862\n",
      "Epoch 7/30\n",
      "100/100 [==============================] - 106s 1s/step - loss: 0.4014 - acc: 0.8116 - val_loss: 0.6807 - val_acc: 0.7052\n",
      "Epoch 8/30\n",
      "100/100 [==============================] - 105s 1s/step - loss: 0.3272 - acc: 0.8516 - val_loss: 0.8799 - val_acc: 0.6723\n",
      "Epoch 9/30\n",
      "100/100 [==============================] - 105s 1s/step - loss: 0.2500 - acc: 0.8919 - val_loss: 0.9133 - val_acc: 0.6806\n",
      "Epoch 10/30\n",
      "100/100 [==============================] - 101s 1s/step - loss: 0.1533 - acc: 0.9428 - val_loss: 1.4511 - val_acc: 0.6637\n",
      "Epoch 11/30\n",
      "100/100 [==============================] - 101s 1s/step - loss: 0.1056 - acc: 0.9609 - val_loss: 1.2066 - val_acc: 0.6881\n",
      "Epoch 12/30\n",
      "100/100 [==============================] - 102s 1s/step - loss: 0.0759 - acc: 0.9750 - val_loss: 1.6451 - val_acc: 0.6540\n",
      "Epoch 13/30\n",
      "100/100 [==============================] - 102s 1s/step - loss: 0.0811 - acc: 0.9728 - val_loss: 1.4744 - val_acc: 0.6635\n",
      "Epoch 14/30\n",
      "100/100 [==============================] - 102s 1s/step - loss: 0.0333 - acc: 0.9906 - val_loss: 1.7699 - val_acc: 0.6926\n",
      "Epoch 15/30\n",
      "100/100 [==============================] - 102s 1s/step - loss: 0.0358 - acc: 0.9891 - val_loss: 1.9499 - val_acc: 0.6644\n",
      "Epoch 16/30\n",
      "100/100 [==============================] - 101s 1s/step - loss: 0.0161 - acc: 0.9956 - val_loss: 1.9505 - val_acc: 0.6932\n",
      "Epoch 17/30\n",
      "100/100 [==============================] - 101s 1s/step - loss: 0.0175 - acc: 0.9950 - val_loss: 2.0724 - val_acc: 0.6723\n",
      "Epoch 18/30\n",
      "100/100 [==============================] - 101s 1s/step - loss: 0.0147 - acc: 0.9969 - val_loss: 1.8398 - val_acc: 0.6768\n",
      "Epoch 19/30\n",
      "100/100 [==============================] - 101s 1s/step - loss: 0.0151 - acc: 0.9962 - val_loss: 2.1955 - val_acc: 0.6850\n",
      "Epoch 20/30\n",
      "100/100 [==============================] - 101s 1s/step - loss: 0.0296 - acc: 0.9906 - val_loss: 2.1874 - val_acc: 0.6887\n",
      "Epoch 21/30\n",
      "100/100 [==============================] - 101s 1s/step - loss: 0.0250 - acc: 0.9934 - val_loss: 2.1229 - val_acc: 0.6780\n",
      "Epoch 22/30\n",
      "100/100 [==============================] - 102s 1s/step - loss: 0.0090 - acc: 0.9988 - val_loss: 2.2957 - val_acc: 0.6679\n",
      "Epoch 23/30\n",
      "100/100 [==============================] - 101s 1s/step - loss: 0.0239 - acc: 0.9934 - val_loss: 1.9953 - val_acc: 0.6761\n",
      "Epoch 24/30\n",
      "100/100 [==============================] - 102s 1s/step - loss: 0.0092 - acc: 0.9975 - val_loss: 2.0218 - val_acc: 0.6837\n",
      "Epoch 25/30\n",
      "100/100 [==============================] - 103s 1s/step - loss: 0.0274 - acc: 0.9894 - val_loss: 2.1734 - val_acc: 0.6700\n",
      "Epoch 26/30\n",
      "100/100 [==============================] - 102s 1s/step - loss: 0.0261 - acc: 0.9928 - val_loss: 2.3967 - val_acc: 0.6692\n",
      "Epoch 27/30\n",
      "100/100 [==============================] - 101s 1s/step - loss: 0.0213 - acc: 0.9919 - val_loss: 2.4567 - val_acc: 0.6705\n",
      "Epoch 28/30\n",
      "100/100 [==============================] - 102s 1s/step - loss: 0.0098 - acc: 0.9978 - val_loss: 2.1892 - val_acc: 0.6850\n",
      "Epoch 29/30\n",
      "100/100 [==============================] - 102s 1s/step - loss: 0.0094 - acc: 0.9978 - val_loss: 2.5176 - val_acc: 0.6654\n",
      "Epoch 30/30\n",
      "100/100 [==============================] - 103s 1s/step - loss: 0.0018 - acc: 0.9994 - val_loss: 2.6807 - val_acc: 0.6613\n",
      "2019-12-11 20:51:55.296297\n",
      "0:51:26.760975\n"
     ]
    }
   ],
   "source": [
    "start = (datetime.datetime.now())\n",
    "history1 = model1.fit_generator(\n",
    "      train_generator,\n",
    "      steps_per_epoch=100,\n",
    "      epochs=30,\n",
    "      validation_data=valid_generator,\n",
    "      validation_steps=50)\n",
    "print(datetime.datetime.now())\n",
    "print(datetime.datetime.now() - start)"
   ]
  },
  {
   "cell_type": "code",
   "execution_count": 28,
   "metadata": {},
   "outputs": [
    {
     "data": {
      "image/png": "[encoded data removed]",
      "text/plain": [
       "<Figure size 432x288 with 1 Axes>"
      ]
     },
     "metadata": {
      "needs_background": "light"
     },
     "output_type": "display_data"
    },
    {
     "data": {
      "image/png": "[encoded data removed]",
      "text/plain": [
       "<Figure size 432x288 with 1 Axes>"
      ]
     },
     "metadata": {
      "needs_background": "light"
     },
     "output_type": "display_data"
    }
   ],
   "source": [
    "plot_train_val_acc(history1)"
   ]
  },
  {
   "cell_type": "code",
   "execution_count": 20,
   "metadata": {},
   "outputs": [
    {
     "name": "stdout",
     "output_type": "stream",
     "text": [
      "Found 2000 validated image filenames belonging to 2 classes.\n"
     ]
    }
   ],
   "source": [
    "test_datagen = ImageDataGenerator(rescale=1./255)\n",
    "test_generator=test_datagen.flow_from_dataframe(dataframe=test,\n",
    "                                                directory=DIR,\n",
    "                                                x_col=\"filename\",\n",
    "                                                y_col=\"pub_priv\",\n",
    "                                                shuffle=False,\n",
    "                                                batch_size=1,\n",
    "                                                class_mode='binary',\n",
    "                                                target_size=(150,150))"
   ]
  },
  {
   "cell_type": "code",
   "execution_count": 21,
   "metadata": {},
   "outputs": [],
   "source": [
    "predict1 = model1.predict_generator(test_generator, steps=len(test))"
   ]
  },
  {
   "cell_type": "code",
   "execution_count": 22,
   "metadata": {},
   "outputs": [
    {
     "name": "stdout",
     "output_type": "stream",
     "text": [
      "The accruacy score is 0.616500\n",
      "              precision    recall  f1-score   support\n",
      "\n",
      "           0       0.62      0.59      0.60       989\n",
      "           1       0.62      0.64      0.63      1011\n",
      "\n",
      "    accuracy                           0.62      2000\n",
      "   macro avg       0.62      0.62      0.62      2000\n",
      "weighted avg       0.62      0.62      0.62      2000\n",
      "\n"
     ]
    }
   ],
   "source": [
    "\n",
    "test_labels = test_generator.classes\n",
    "score1 = accuracy_score(test_labels, predict1.round())\n",
    "print(\"The accruacy score is %f\" % score1)\n",
    "print(classification_report(test_labels, predict1.round()))"
   ]
  },
  {
   "cell_type": "markdown",
   "metadata": {},
   "source": [
    "# First Model adjusted: picture augmentation"
   ]
  },
  {
   "cell_type": "code",
   "execution_count": 23,
   "metadata": {},
   "outputs": [],
   "source": [
    "train_datagen2 = ImageDataGenerator(rescale=1./255,\n",
    "                                    rotation_range=40,\n",
    "                                    width_shift_range=0.2,\n",
    "                                    height_shift_range=0.2,\n",
    "                                    shear_range=0.2,\n",
    "                                    zoom_range=0.2,\n",
    "                                    horizontal_flip=True,\n",
    "                                    validation_split=0.25)\n",
    "test_datagen2 = ImageDataGenerator(rescale=1./255)"
   ]
  },
  {
   "cell_type": "code",
   "execution_count": 24,
   "metadata": {},
   "outputs": [
    {
     "name": "stdout",
     "output_type": "stream",
     "text": [
      "Found 6000 validated image filenames belonging to 2 classes.\n",
      "Found 2000 validated image filenames belonging to 2 classes.\n",
      "Found 2000 validated image filenames.\n"
     ]
    }
   ],
   "source": [
    "DIR = \"../Images_all\"\n",
    "train_generator=train_datagen2.flow_from_dataframe(dataframe=train,\n",
    "                                            directory=DIR,\n",
    "                                            x_col=\"filename\",\n",
    "                                            y_col=\"pub_priv\",\n",
    "                                            subset=\"training\",\n",
    "                                            batch_size=32,\n",
    "                                            seed=42,\n",
    "                                            shuffle=True,\n",
    "                                            class_mode=\"binary\",\n",
    "                                            target_size=(150,150))\n",
    "valid_generator=train_datagen2.flow_from_dataframe(dataframe=train,\n",
    "                                            directory=DIR,\n",
    "                                            x_col=\"filename\",\n",
    "                                            y_col=\"pub_priv\",\n",
    "                                            subset=\"validation\",\n",
    "                                            batch_size=32,\n",
    "                                            seed=42,\n",
    "                                            shuffle=True,\n",
    "                                            class_mode=\"binary\",\n",
    "                                            target_size=(150,150))\n",
    "test_generator=test_datagen2.flow_from_dataframe(dataframe=test,\n",
    "                                                directory=DIR,\n",
    "                                                x_col=\"filename\",\n",
    "                                                y_col=None,\n",
    "                                                batch_size=32,\n",
    "                                                seed=42,\n",
    "                                                shuffle=False,\n",
    "                                                class_mode=None,\n",
    "                                                target_size=(150,150))"
   ]
  },
  {
   "cell_type": "code",
   "execution_count": 25,
   "metadata": {},
   "outputs": [],
   "source": [
    "model2 = models.Sequential()\n",
    "model2.add(layers.Conv2D(32, (3, 3), activation='relu',input_shape=(150, 150, 3)))\n",
    "model2.add(layers.Conv2D(32, (3, 3), activation='relu'))\n",
    "model2.add(layers.Conv2D(32, (3, 3), activation='relu'))\n",
    "model2.add(layers.MaxPooling2D((4, 4)))\n",
    "model2.add(layers.Flatten())\n",
    "model2.add(layers.Dense(256, activation='relu'))\n",
    "model2.add(layers.Dense(128, activation='relu'))\n",
    "model2.add(layers.Dropout(0.5))\n",
    "model2.add(layers.Dense(1, activation='sigmoid'))\n",
    "model2.compile(loss='binary_crossentropy',optimizer='adam',metrics=['accuracy'])"
   ]
  },
  {
   "cell_type": "code",
   "execution_count": 26,
   "metadata": {},
   "outputs": [
    {
     "name": "stdout",
     "output_type": "stream",
     "text": [
      "_________________________________________________________________\n",
      "Layer (type)                 Output Shape              Param #   \n",
      "=================================================================\n",
      "conv2d_10 (Conv2D)           (None, 148, 148, 32)      896       \n",
      "_________________________________________________________________\n",
      "conv2d_11 (Conv2D)           (None, 146, 146, 32)      9248      \n",
      "_________________________________________________________________\n",
      "conv2d_12 (Conv2D)           (None, 144, 144, 32)      9248      \n",
      "_________________________________________________________________\n",
      "max_pooling2d_4 (MaxPooling2 (None, 36, 36, 32)        0         \n",
      "_________________________________________________________________\n",
      "flatten_4 (Flatten)          (None, 41472)             0         \n",
      "_________________________________________________________________\n",
      "dense_9 (Dense)              (None, 256)               10617088  \n",
      "_________________________________________________________________\n",
      "dense_10 (Dense)             (None, 128)               32896     \n",
      "_________________________________________________________________\n",
      "dropout_3 (Dropout)          (None, 128)               0         \n",
      "_________________________________________________________________\n",
      "dense_11 (Dense)             (None, 1)                 129       \n",
      "=================================================================\n",
      "Total params: 10,669,505\n",
      "Trainable params: 10,669,505\n",
      "Non-trainable params: 0\n",
      "_________________________________________________________________\n"
     ]
    }
   ],
   "source": [
    "model2.summary()"
   ]
  },
  {
   "cell_type": "code",
   "execution_count": 27,
   "metadata": {},
   "outputs": [
    {
     "name": "stdout",
     "output_type": "stream",
     "text": [
      "Epoch 1/30\n",
      "100/100 [==============================] - 148s 1s/step - loss: 0.6486 - acc: 0.6019 - val_loss: 0.6382 - val_acc: 0.5994\n",
      "Epoch 2/30\n",
      "100/100 [==============================] - 142s 1s/step - loss: 0.6275 - acc: 0.6262 - val_loss: 0.6218 - val_acc: 0.6338\n",
      "Epoch 3/30\n",
      "100/100 [==============================] - 147s 1s/step - loss: 0.6176 - acc: 0.6322 - val_loss: 0.6234 - val_acc: 0.6660\n",
      "Epoch 4/30\n",
      "100/100 [==============================] - 146s 1s/step - loss: 0.6150 - acc: 0.6531 - val_loss: 0.6303 - val_acc: 0.6326\n",
      "Epoch 5/30\n",
      "100/100 [==============================] - 141s 1s/step - loss: 0.6009 - acc: 0.6628 - val_loss: 0.6278 - val_acc: 0.6388\n",
      "Epoch 6/30\n",
      "100/100 [==============================] - 142s 1s/step - loss: 0.5975 - acc: 0.6775 - val_loss: 0.6240 - val_acc: 0.6692\n",
      "Epoch 7/30\n",
      "100/100 [==============================] - 149s 1s/step - loss: 0.5974 - acc: 0.6666 - val_loss: 0.6103 - val_acc: 0.6604\n",
      "Epoch 8/30\n",
      "100/100 [==============================] - 167s 2s/step - loss: 0.5934 - acc: 0.6681 - val_loss: 0.6035 - val_acc: 0.6705\n",
      "Epoch 9/30\n",
      "100/100 [==============================] - 145s 1s/step - loss: 0.5703 - acc: 0.6947 - val_loss: 0.6206 - val_acc: 0.6667\n",
      "Epoch 10/30\n",
      "100/100 [==============================] - 145s 1s/step - loss: 0.5914 - acc: 0.6681 - val_loss: 0.6100 - val_acc: 0.6656\n",
      "Epoch 11/30\n",
      "100/100 [==============================] - 141s 1s/step - loss: 0.5753 - acc: 0.6931 - val_loss: 0.5833 - val_acc: 0.6970\n",
      "Epoch 12/30\n",
      "100/100 [==============================] - 141s 1s/step - loss: 0.5824 - acc: 0.6809 - val_loss: 0.6340 - val_acc: 0.6641\n",
      "Epoch 13/30\n",
      "100/100 [==============================] - 140s 1s/step - loss: 0.5748 - acc: 0.6975 - val_loss: 0.6041 - val_acc: 0.6850\n",
      "Epoch 14/30\n",
      "100/100 [==============================] - 149s 1s/step - loss: 0.5726 - acc: 0.6922 - val_loss: 0.5751 - val_acc: 0.6976\n",
      "Epoch 15/30\n",
      "100/100 [==============================] - 164s 2s/step - loss: 0.5737 - acc: 0.6872 - val_loss: 0.6153 - val_acc: 0.6512\n",
      "Epoch 16/30\n",
      "100/100 [==============================] - 150s 1s/step - loss: 0.5734 - acc: 0.6994 - val_loss: 0.5968 - val_acc: 0.6837\n",
      "Epoch 17/30\n",
      "100/100 [==============================] - 104s 1s/step - loss: 0.5594 - acc: 0.7106 - val_loss: 0.5784 - val_acc: 0.6881\n",
      "Epoch 18/30\n",
      "100/100 [==============================] - 138s 1s/step - loss: 0.5653 - acc: 0.7087 - val_loss: 0.5794 - val_acc: 0.6900\n",
      "Epoch 19/30\n",
      "100/100 [==============================] - 123s 1s/step - loss: 0.5455 - acc: 0.7159 - val_loss: 0.5527 - val_acc: 0.7266\n",
      "Epoch 20/30\n",
      "100/100 [==============================] - 152s 2s/step - loss: 0.5546 - acc: 0.7094 - val_loss: 0.5712 - val_acc: 0.7025\n",
      "Epoch 21/30\n",
      "100/100 [==============================] - 146s 1s/step - loss: 0.5465 - acc: 0.7200 - val_loss: 0.5871 - val_acc: 0.6989\n",
      "Epoch 22/30\n",
      "100/100 [==============================] - 145s 1s/step - loss: 0.5435 - acc: 0.7153 - val_loss: 0.5757 - val_acc: 0.7039\n",
      "Epoch 23/30\n",
      "100/100 [==============================] - 144s 1s/step - loss: 0.5418 - acc: 0.7219 - val_loss: 0.6383 - val_acc: 0.6799\n",
      "Epoch 24/30\n",
      "100/100 [==============================] - 144s 1s/step - loss: 0.5419 - acc: 0.7144 - val_loss: 0.5850 - val_acc: 0.6824\n",
      "Epoch 25/30\n",
      "100/100 [==============================] - 148s 1s/step - loss: 0.5363 - acc: 0.7244 - val_loss: 0.5667 - val_acc: 0.7000\n",
      "Epoch 26/30\n",
      "100/100 [==============================] - 151s 2s/step - loss: 0.5460 - acc: 0.7228 - val_loss: 0.5720 - val_acc: 0.6976\n",
      "Epoch 27/30\n",
      "100/100 [==============================] - 146s 1s/step - loss: 0.5330 - acc: 0.7328 - val_loss: 0.5970 - val_acc: 0.6686\n",
      "Epoch 28/30\n",
      "100/100 [==============================] - 145s 1s/step - loss: 0.5377 - acc: 0.7234 - val_loss: 0.5966 - val_acc: 0.6831\n",
      "Epoch 29/30\n",
      "100/100 [==============================] - 149s 1s/step - loss: 0.5203 - acc: 0.7409 - val_loss: 0.6003 - val_acc: 0.7014\n",
      "Epoch 30/30\n",
      "100/100 [==============================] - 174s 2s/step - loss: 0.5400 - acc: 0.7272 - val_loss: 0.6416 - val_acc: 0.6506\n"
     ]
    }
   ],
   "source": [
    "history2_aug = model2.fit_generator(\n",
    "      train_generator,\n",
    "      steps_per_epoch=100,\n",
    "      epochs=30,\n",
    "      validation_data=valid_generator,\n",
    "      validation_steps=50)"
   ]
  },
  {
   "cell_type": "code",
   "execution_count": 29,
   "metadata": {},
   "outputs": [],
   "source": [
    "model2.save('pub_priv_first_augmented.h5')"
   ]
  },
  {
   "cell_type": "code",
   "execution_count": 30,
   "metadata": {},
   "outputs": [
    {
     "data": {
      "image/png": "[encoded data removed]",
      "text/plain": [
       "<Figure size 432x288 with 1 Axes>"
      ]
     },
     "metadata": {
      "needs_background": "light"
     },
     "output_type": "display_data"
    },
    {
     "data": {
      "image/png": "[encoded data removed]",
      "text/plain": [
       "<Figure size 432x288 with 1 Axes>"
      ]
     },
     "metadata": {
      "needs_background": "light"
     },
     "output_type": "display_data"
    }
   ],
   "source": [
    "# newest result\n",
    "plot_train_val_acc(history2_aug)"
   ]
  },
  {
   "cell_type": "code",
   "execution_count": 32,
   "metadata": {},
   "outputs": [
    {
     "ename": "ValueError",
     "evalue": "Found input variables with inconsistent numbers of samples: [2000, 63488]",
     "output_type": "error",
     "traceback": [
      "\u001b[0;31m---------------------------------------------------------------------------\u001b[0m",
      "\u001b[0;31mValueError\u001b[0m                                Traceback (most recent call last)",
      "\u001b[0;32m<ipython-input-32-9f3988bdb745>\u001b[0m in \u001b[0;36m<module>\u001b[0;34m\u001b[0m\n\u001b[1;32m      1\u001b[0m \u001b[0mpredict2\u001b[0m \u001b[0;34m=\u001b[0m \u001b[0mmodel2\u001b[0m\u001b[0;34m.\u001b[0m\u001b[0mpredict_generator\u001b[0m\u001b[0;34m(\u001b[0m\u001b[0mtest_generator\u001b[0m\u001b[0;34m,\u001b[0m \u001b[0msteps\u001b[0m\u001b[0;34m=\u001b[0m\u001b[0mlen\u001b[0m\u001b[0;34m(\u001b[0m\u001b[0mtest\u001b[0m\u001b[0;34m)\u001b[0m\u001b[0;34m)\u001b[0m\u001b[0;34m\u001b[0m\u001b[0;34m\u001b[0m\u001b[0m\n\u001b[0;32m----> 2\u001b[0;31m \u001b[0mscore2\u001b[0m \u001b[0;34m=\u001b[0m \u001b[0maccuracy_score\u001b[0m\u001b[0;34m(\u001b[0m\u001b[0mtest_labels\u001b[0m\u001b[0;34m,\u001b[0m \u001b[0mpredict2\u001b[0m\u001b[0;34m.\u001b[0m\u001b[0mround\u001b[0m\u001b[0;34m(\u001b[0m\u001b[0;34m)\u001b[0m\u001b[0;34m)\u001b[0m\u001b[0;34m\u001b[0m\u001b[0;34m\u001b[0m\u001b[0m\n\u001b[0m\u001b[1;32m      3\u001b[0m \u001b[0mprint\u001b[0m\u001b[0;34m(\u001b[0m\u001b[0;34m\"The accruacy score is %f\"\u001b[0m \u001b[0;34m%\u001b[0m \u001b[0mscore2\u001b[0m\u001b[0;34m)\u001b[0m\u001b[0;34m\u001b[0m\u001b[0;34m\u001b[0m\u001b[0m\n\u001b[1;32m      4\u001b[0m \u001b[0mprint\u001b[0m\u001b[0;34m(\u001b[0m\u001b[0mclassification_report\u001b[0m\u001b[0;34m(\u001b[0m\u001b[0mtest_labels\u001b[0m\u001b[0;34m,\u001b[0m \u001b[0mpredict2\u001b[0m\u001b[0;34m.\u001b[0m\u001b[0mround\u001b[0m\u001b[0;34m(\u001b[0m\u001b[0;34m)\u001b[0m\u001b[0;34m)\u001b[0m\u001b[0;34m)\u001b[0m\u001b[0;34m\u001b[0m\u001b[0;34m\u001b[0m\u001b[0m\n",
      "\u001b[0;32m~/anaconda3/lib/python3.7/site-packages/sklearn/metrics/classification.py\u001b[0m in \u001b[0;36maccuracy_score\u001b[0;34m(y_true, y_pred, normalize, sample_weight)\u001b[0m\n\u001b[1;32m    174\u001b[0m \u001b[0;34m\u001b[0m\u001b[0m\n\u001b[1;32m    175\u001b[0m     \u001b[0;31m# Compute accuracy for each possible representation\u001b[0m\u001b[0;34m\u001b[0m\u001b[0;34m\u001b[0m\u001b[0;34m\u001b[0m\u001b[0m\n\u001b[0;32m--> 176\u001b[0;31m     \u001b[0my_type\u001b[0m\u001b[0;34m,\u001b[0m \u001b[0my_true\u001b[0m\u001b[0;34m,\u001b[0m \u001b[0my_pred\u001b[0m \u001b[0;34m=\u001b[0m \u001b[0m_check_targets\u001b[0m\u001b[0;34m(\u001b[0m\u001b[0my_true\u001b[0m\u001b[0;34m,\u001b[0m \u001b[0my_pred\u001b[0m\u001b[0;34m)\u001b[0m\u001b[0;34m\u001b[0m\u001b[0;34m\u001b[0m\u001b[0m\n\u001b[0m\u001b[1;32m    177\u001b[0m     \u001b[0mcheck_consistent_length\u001b[0m\u001b[0;34m(\u001b[0m\u001b[0my_true\u001b[0m\u001b[0;34m,\u001b[0m \u001b[0my_pred\u001b[0m\u001b[0;34m,\u001b[0m \u001b[0msample_weight\u001b[0m\u001b[0;34m)\u001b[0m\u001b[0;34m\u001b[0m\u001b[0;34m\u001b[0m\u001b[0m\n\u001b[1;32m    178\u001b[0m     \u001b[0;32mif\u001b[0m \u001b[0my_type\u001b[0m\u001b[0;34m.\u001b[0m\u001b[0mstartswith\u001b[0m\u001b[0;34m(\u001b[0m\u001b[0;34m'multilabel'\u001b[0m\u001b[0;34m)\u001b[0m\u001b[0;34m:\u001b[0m\u001b[0;34m\u001b[0m\u001b[0;34m\u001b[0m\u001b[0m\n",
      "\u001b[0;32m~/anaconda3/lib/python3.7/site-packages/sklearn/metrics/classification.py\u001b[0m in \u001b[0;36m_check_targets\u001b[0;34m(y_true, y_pred)\u001b[0m\n\u001b[1;32m     69\u001b[0m     \u001b[0my_pred\u001b[0m \u001b[0;34m:\u001b[0m \u001b[0marray\u001b[0m \u001b[0;32mor\u001b[0m \u001b[0mindicator\u001b[0m \u001b[0mmatrix\u001b[0m\u001b[0;34m\u001b[0m\u001b[0;34m\u001b[0m\u001b[0m\n\u001b[1;32m     70\u001b[0m     \"\"\"\n\u001b[0;32m---> 71\u001b[0;31m     \u001b[0mcheck_consistent_length\u001b[0m\u001b[0;34m(\u001b[0m\u001b[0my_true\u001b[0m\u001b[0;34m,\u001b[0m \u001b[0my_pred\u001b[0m\u001b[0;34m)\u001b[0m\u001b[0;34m\u001b[0m\u001b[0;34m\u001b[0m\u001b[0m\n\u001b[0m\u001b[1;32m     72\u001b[0m     \u001b[0mtype_true\u001b[0m \u001b[0;34m=\u001b[0m \u001b[0mtype_of_target\u001b[0m\u001b[0;34m(\u001b[0m\u001b[0my_true\u001b[0m\u001b[0;34m)\u001b[0m\u001b[0;34m\u001b[0m\u001b[0;34m\u001b[0m\u001b[0m\n\u001b[1;32m     73\u001b[0m     \u001b[0mtype_pred\u001b[0m \u001b[0;34m=\u001b[0m \u001b[0mtype_of_target\u001b[0m\u001b[0;34m(\u001b[0m\u001b[0my_pred\u001b[0m\u001b[0;34m)\u001b[0m\u001b[0;34m\u001b[0m\u001b[0;34m\u001b[0m\u001b[0m\n",
      "\u001b[0;32m~/anaconda3/lib/python3.7/site-packages/sklearn/utils/validation.py\u001b[0m in \u001b[0;36mcheck_consistent_length\u001b[0;34m(*arrays)\u001b[0m\n\u001b[1;32m    203\u001b[0m     \u001b[0;32mif\u001b[0m \u001b[0mlen\u001b[0m\u001b[0;34m(\u001b[0m\u001b[0muniques\u001b[0m\u001b[0;34m)\u001b[0m \u001b[0;34m>\u001b[0m \u001b[0;36m1\u001b[0m\u001b[0;34m:\u001b[0m\u001b[0;34m\u001b[0m\u001b[0;34m\u001b[0m\u001b[0m\n\u001b[1;32m    204\u001b[0m         raise ValueError(\"Found input variables with inconsistent numbers of\"\n\u001b[0;32m--> 205\u001b[0;31m                          \" samples: %r\" % [int(l) for l in lengths])\n\u001b[0m\u001b[1;32m    206\u001b[0m \u001b[0;34m\u001b[0m\u001b[0m\n\u001b[1;32m    207\u001b[0m \u001b[0;34m\u001b[0m\u001b[0m\n",
      "\u001b[0;31mValueError\u001b[0m: Found input variables with inconsistent numbers of samples: [2000, 63488]"
     ]
    }
   ],
   "source": [
    "predict2 = model2.predict_generator(test_generator, steps=len(test))\n",
    "score2 = accuracy_score(test_labels, predict2.round())\n",
    "print(\"The accruacy score is %f\" % score2)\n",
    "print(classification_report(test_labels, predict2.round()))"
   ]
  },
  {
   "cell_type": "code",
   "execution_count": null,
   "metadata": {},
   "outputs": [],
   "source": []
  }
 ],
 "metadata": {
  "kernelspec": {
   "display_name": "Python [conda env:root] *",
   "language": "python",
   "name": "conda-root-py"
  },
  "language_info": {
   "codemirror_mode": {
    "name": "ipython",
    "version": 3
   },
   "file_extension": ".py",
   "mimetype": "text/x-python",
   "name": "python",
   "nbconvert_exporter": "python",
   "pygments_lexer": "ipython3",
   "version": "3.7.1"
  }
 },
 "nbformat": 4,
 "nbformat_minor": 2
}
